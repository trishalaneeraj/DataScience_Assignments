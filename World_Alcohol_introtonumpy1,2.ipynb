{
 "cells": [
  {
   "cell_type": "code",
   "execution_count": null,
   "metadata": {
    "collapsed": true
   },
   "outputs": [],
   "source": [
    "import csv\n",
    "\n",
    "\n",
    "f = open(\"world_alcohol.csv\")\n",
    "reader = csv.reader(f)\n",
    "world_alcohol = list(reader)\n",
    "\n",
    "\n",
    "years = []\n",
    "for row in world_alcohol:\n",
    "    year = row[0]\n",
    "    years.append(year)\n",
    "\n",
    "years_f = years[1:]\n",
    "\n",
    "total = 0\n",
    "for item in years_f:\n",
    "    total = total + float(item)\n",
    "avg_year = total / len(years_f)\n",
    "print(avg_year)"
   ]
  },
  {
   "cell_type": "code",
   "execution_count": null,
   "metadata": {
    "collapsed": true
   },
   "outputs": [],
   "source": [
    "import numpy\n",
    "world_alcohol = numpy.genfromtxt(\"world_alcohol.csv\", delimiter=\",\")\n"
   ]
  },
  {
   "cell_type": "code",
   "execution_count": 2,
   "metadata": {
    "collapsed": false
   },
   "outputs": [],
   "source": [
    "import numpy\n",
    "vector = numpy.array([10, 20, 30])\n",
    "matrix = numpy.array([[5, 10, 15], [20, 25, 30], [35, 40, 45]])"
   ]
  },
  {
   "cell_type": "code",
   "execution_count": 3,
   "metadata": {
    "collapsed": false
   },
   "outputs": [
    {
     "name": "stdout",
     "output_type": "stream",
     "text": [
      "(3,)\n",
      "(3, 3)\n"
     ]
    }
   ],
   "source": [
    "vector = numpy.array([10, 20, 30])\n",
    "print(vector.shape)\n",
    "matrix = numpy.array([[5, 10, 15], [20, 25, 30], [35, 40, 45]])\n",
    "print(matrix.shape)"
   ]
  },
  {
   "cell_type": "code",
   "execution_count": null,
   "metadata": {
    "collapsed": true
   },
   "outputs": [],
   "source": [
    "world_alcohol_dtype=world_alcohol.dtype"
   ]
  },
  {
   "cell_type": "code",
   "execution_count": null,
   "metadata": {
    "collapsed": true
   },
   "outputs": [],
   "source": [
    "import numpy\n",
    "world_alcohol = numpy.genfromtxt(\"world_alcohol.csv\", delimiter=\",\",dtype=\"U75\", skip_header=True)\n",
    "print (world_alcohol)"
   ]
  },
  {
   "cell_type": "code",
   "execution_count": null,
   "metadata": {
    "collapsed": true
   },
   "outputs": [],
   "source": [
    "uruguay_other_1986=world_alcohol[1][4]\n",
    "third_country=world_alcohol[2][2]#3row3col"
   ]
  },
  {
   "cell_type": "code",
   "execution_count": null,
   "metadata": {
    "collapsed": true
   },
   "outputs": [],
   "source": [
    "countries=world_alcohol[:][2]\n",
    "alcohol_consumption=world_alcohol[:][4]\n",
    "#above are wrong, below are right\n",
    "\n",
    "countries = world_alcohol[:,2]\n",
    "alcohol_consumption = world_alcohol[:,4]"
   ]
  },
  {
   "cell_type": "code",
   "execution_count": null,
   "metadata": {
    "collapsed": true
   },
   "outputs": [],
   "source": [
    "#Assign the first 20 rows of the columns at index 1 and 2 of world_alcohol to first_twenty_regions.\n",
    "first_twenty_regions=world_alcohol[0:20,1:3]"
   ]
  },
  {
   "cell_type": "code",
   "execution_count": null,
   "metadata": {
    "collapsed": true
   },
   "outputs": [],
   "source": [
    "third = world_alcohol[:,2]\n",
    "countries_canada = []\n",
    "for each in third:\n",
    "    countries_canada.append(each == \"Canada\")\n",
    "\n",
    "first = world_alcohol[:,0]\n",
    "years_1984 = []\n",
    "for each in third:\n",
    "    years_1984.append(each == \"1984\")\n",
    "    \n",
    "#why wrong?\n",
    "\n",
    "\n",
    "years_1984 = (world_alcohol[:,0] == \"1984\")\n",
    "countries_canada = (world_alcohol[:,2] == \"Canada\")\n",
    "\n",
    "\n",
    "\n",
    "country_is_algeria = world_alcohol[:,2] == \"Algeria\"\n",
    "country_algeria = world_alcohol[country_is_algeria,:] #discuss\n",
    "#^Select only the rows in world_alcohol where country_is_algeria is True. Assign the result to country_algeria.\n",
    "\n",
    "is_algeria_and_1986 = ((world_alcohol[:,0]==\"1986\")&(world_alcohol[:,2]==\"Algeria\"))\n",
    "rows_with_algeria_and_1986=world_alcohol[is_algeria_and_1986,:]\n",
    "#Use is_algeria_and_1986 to select rows from world_alcohol. Assign the selected rows to rows_with_algeria_and_1986.\n",
    "\n",
    "\n",
    "world_alcohol[:,0][world_alcohol[:,0] == '1986'] = '2014'\n",
    "world_alcohol[:,3][world_alcohol[:,3] == 'Wine'] = 'Grog'"
   ]
  },
  {
   "cell_type": "code",
   "execution_count": null,
   "metadata": {
    "collapsed": true
   },
   "outputs": [],
   "source": [
    "\n",
    "is_value_empty = world_alcohol[:,4] == ''\n",
    "world_alcohol[is_value_empty, 4] = '0'\n"
   ]
  },
  {
   "cell_type": "code",
   "execution_count": null,
   "metadata": {
    "collapsed": true
   },
   "outputs": [],
   "source": [
    "vector = numpy.array([\"1\", \"2\", \"3\"])\n",
    "vector = vector.astype(float)"
   ]
  }
 ],
 "metadata": {
  "kernelspec": {
   "display_name": "Python 2",
   "language": "python",
   "name": "python2"
  },
  "language_info": {
   "codemirror_mode": {
    "name": "ipython",
    "version": 2
   },
   "file_extension": ".py",
   "mimetype": "text/x-python",
   "name": "python",
   "nbconvert_exporter": "python",
   "pygments_lexer": "ipython2",
   "version": "2.7.10"
  }
 },
 "nbformat": 4,
 "nbformat_minor": 0
}
