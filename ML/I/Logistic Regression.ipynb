{
 "cells": [
  {
   "cell_type": "code",
   "execution_count": 1,
   "metadata": {
    "collapsed": false
   },
   "outputs": [],
   "source": [
    "import pandas as pd\n",
    "import matplotlib.pyplot as plt\n",
    "%matplotlib inline"
   ]
  },
  {
   "cell_type": "code",
   "execution_count": 2,
   "metadata": {
    "collapsed": false
   },
   "outputs": [
    {
     "name": "stdout",
     "output_type": "stream",
     "text": [
      "   admit       gpa         gre\n",
      "0      0  3.177277  594.102992\n",
      "1      0  3.412655  631.528607\n",
      "2      0  2.728097  553.714399\n"
     ]
    }
   ],
   "source": [
    "admissions = pd.read_csv(\"admissions.csv\")\n",
    "print admissions.head(3)"
   ]
  },
  {
   "cell_type": "code",
   "execution_count": 3,
   "metadata": {
    "collapsed": false
   },
   "outputs": [
    {
     "data": {
      "image/png": "[encoded data removed]",
      "text/plain": [
       "<matplotlib.figure.Figure at 0x798b9b0>"
      ]
     },
     "metadata": {},
     "output_type": "display_data"
    }
   ],
   "source": [
    "#Visualize relationship between gpa and admit\n",
    "plt.scatter(admissions['gpa'], admissions['admit'])\n",
    "plt.show()"
   ]
  },
  {
   "cell_type": "code",
   "execution_count": 4,
   "metadata": {
    "collapsed": false
   },
   "outputs": [],
   "source": [
    "import numpy as np\n",
    "# Logit Function\n",
    "def logit(x):\n",
    "    # np.exp(x) raises x to the exponential power, ie e^x. e ~= 2.71828\n",
    "    return np.exp(x)  / (1 + np.exp(x)) "
   ]
  },
  {
   "cell_type": "code",
   "execution_count": 5,
   "metadata": {
    "collapsed": false
   },
   "outputs": [
    {
     "data": {
      "text/plain": [
       "array([-6.        , -5.75510204, -5.51020408, -5.26530612, -5.02040816,\n",
       "       -4.7755102 , -4.53061224, -4.28571429, -4.04081633, -3.79591837,\n",
       "       -3.55102041, -3.30612245, -3.06122449, -2.81632653, -2.57142857,\n",
       "       -2.32653061, -2.08163265, -1.83673469, -1.59183673, -1.34693878,\n",
       "       -1.10204082, -0.85714286, -0.6122449 , -0.36734694, -0.12244898,\n",
       "        0.12244898,  0.36734694,  0.6122449 ,  0.85714286,  1.10204082,\n",
       "        1.34693878,  1.59183673,  1.83673469,  2.08163265,  2.32653061,\n",
       "        2.57142857,  2.81632653,  3.06122449,  3.30612245,  3.55102041,\n",
       "        3.79591837,  4.04081633,  4.28571429,  4.53061224,  4.7755102 ,\n",
       "        5.02040816,  5.26530612,  5.51020408,  5.75510204,  6.        ])"
      ]
     },
     "execution_count": 5,
     "metadata": {},
     "output_type": "execute_result"
    }
   ],
   "source": [
    "# Generate 50 real values, evenly spaced, between -6 and 6.\n",
    "x = np.linspace(-6,6,50, dtype=float)\n",
    "x"
   ]
  },
  {
   "cell_type": "code",
   "execution_count": 6,
   "metadata": {
    "collapsed": false
   },
   "outputs": [
    {
     "data": {
      "text/plain": [
       "array([ 0.00247262,  0.00315659,  0.00402898,  0.00514124,  0.00655853,\n",
       "        0.00836325,  0.01065923,  0.01357692,  0.01727929,  0.0219688 ,\n",
       "        0.02789489,  0.03536175,  0.04473535,  0.05644827,  0.07100002,\n",
       "        0.08894941,  0.11089489,  0.13743793,  0.16912564,  0.2063713 ,\n",
       "        0.2493577 ,  0.29793663,  0.35154728,  0.40918225,  0.46942595,\n",
       "        0.53057405,  0.59081775,  0.64845272,  0.70206337,  0.7506423 ,\n",
       "        0.7936287 ,  0.83087436,  0.86256207,  0.88910511,  0.91105059,\n",
       "        0.92899998,  0.94355173,  0.95526465,  0.96463825,  0.97210511,\n",
       "        0.9780312 ,  0.98272071,  0.98642308,  0.98934077,  0.99163675,\n",
       "        0.99344147,  0.99485876,  0.99597102,  0.99684341,  0.99752738])"
      ]
     },
     "execution_count": 6,
     "metadata": {},
     "output_type": "execute_result"
    }
   ],
   "source": [
    "# Transform each number in t using the logit function.\n",
    "y = logit(x)\n",
    "y"
   ]
  },
  {
   "cell_type": "code",
   "execution_count": 7,
   "metadata": {
    "collapsed": false
   },
   "outputs": [
    {
     "data": {
      "image/png": "[encoded data removed]",
      "text/plain": [
       "<matplotlib.figure.Figure at 0x7aa8890>"
      ]
     },
     "metadata": {},
     "output_type": "display_data"
    }
   ],
   "source": [
    "# Plot the resulting data.\n",
    "plt.plot(x, y)\n",
    "plt.ylabel(\"Probability\")\n",
    "plt.show()"
   ]
  },
  {
   "cell_type": "code",
   "execution_count": 8,
   "metadata": {
    "collapsed": false
   },
   "outputs": [
    {
     "data": {
      "text/plain": [
       "LogisticRegression(C=1.0, class_weight=None, dual=False, fit_intercept=True,\n",
       "          intercept_scaling=1, max_iter=100, multi_class='ovr',\n",
       "          penalty='l2', random_state=None, solver='liblinear', tol=0.0001,\n",
       "          verbose=0)"
      ]
     },
     "execution_count": 8,
     "metadata": {},
     "output_type": "execute_result"
    }
   ],
   "source": [
    "#Training a Logistic regression model\n",
    "\n",
    "from sklearn.linear_model import LogisticRegression\n",
    "logistic_model = LogisticRegression()\n",
    "\n",
    "logistic_model.fit(admissions[[\"gpa\"]], admissions[\"admit\"])"
   ]
  },
  {
   "cell_type": "code",
   "execution_count": 9,
   "metadata": {
    "collapsed": false
   },
   "outputs": [
    {
     "data": {
      "image/png": "[encoded data removed]",
      "text/plain": [
       "<matplotlib.figure.Figure at 0x7aa80d0>"
      ]
     },
     "metadata": {},
     "output_type": "display_data"
    }
   ],
   "source": [
    "pred_probs = logistic_model.predict_proba(admissions[[\"gpa\"]])\n",
    "#^Remember to make a list of the gpa column.\n",
    "\n",
    "#the y-axis is the probability of being classified as label 1\n",
    "plt.scatter(admissions['gpa'], pred_probs[:,1])\n",
    "plt.show()\n",
    "\n",
    "# Probability that the row belongs to label `0`.\n",
    "#probabilities[:,0]\n",
    "# Probabililty that the row belongs to label `1`.\n",
    "#probabilities[:,1]"
   ]
  },
  {
   "cell_type": "code",
   "execution_count": 10,
   "metadata": {
    "collapsed": false
   },
   "outputs": [
    {
     "name": "stdout",
     "output_type": "stream",
     "text": [
      "[0 0 0 0 0 0 0 0 0 1 0 0 0 0 0 0 0 0 0 0 0 0 0 0 0 0 0 0 0 0 0 0 0 0 0 0 0\n",
      " 0 0 0 0 0 0 0 0 0 0 0 0 0 0 0 0 0 0 0 0 0 0 0 0 0 0 0 1 0 0 0 0 0 0 1 0 0\n",
      " 1 0 0 1 0 0 0 0 0 0 0 0 0 0 0 0 0 0 0 0 0 0 0 0 0 0 0 0 0 1 0 0 0 0 0 0 0\n",
      " 0 0 0 0 0 0 0 0 0 0 0 0 0 0 0 0 0 0 0 0 0 0 0 0 0 0 0 1 0 0 0 0 0 0 0 0 0\n",
      " 0 0 0 0 0 0 0 0 0 0 0 0 0 0 0 0 0 0 1 0 0 0 0 0 0 0 0 0 0 0 0 0 0 0 0 0 0\n",
      " 0 0 0 0 0 0 0 0 0 0 0 0 0 0 0 0 0 0 0 0 0 0 0 1 0 0 0 0 0 0 0 0 0 0 0 0 1\n",
      " 0 0 1 0 1 0 0 0 0 0 0 0 0 0 0 0 1 0 0 0 0 0 0 0 1 0 0 0 0 0 0 0 0 0 0 0 0\n",
      " 0 0 0 0 0 0 0 0 0 0 0 0 0 0 0 0 0 0 0 0 0 0 0 0 0 0 0 0 0 0 0 0 0 0 0 0 0\n",
      " 0 0 0 0 0 0 0 0 0 0 0 0 0 0 1 0 0 0 0 0 0 0 0 0 0 0 0 0 0 0 0 0 0 0 0 0 0\n",
      " 0 0 0 0 0 0 0 0 0 0 0 0 0 0 0 0 0 0 0 0 0 0 0 0 0 0 0 0 0 0 0 0 0 0 0 0 0\n",
      " 0 0 0 0 0 0 0 0 0 0 0 0 0 0 0 0 0 0 0 0 0 0 0 0 0 0 0 0 0 0 0 0 0 0 0 0 0\n",
      " 0 0 1 0 0 1 0 0 0 0 1 0 0 0 0 0 0 0 0 0 0 0 0 0 0 0 0 1 0 0 0 0 0 0 0 0 0\n",
      " 0 0 1 0 0 0 0 0 0 0 0 0 0 0 0 0 0 1 0 0 0 0 0 0 0 0 0 0 0 0 0 0 0 0 0 0 1\n",
      " 0 0 0 0 0 0 0 0 0 0 0 0 0 0 1 0 0 0 0 0 1 1 0 0 0 0 1 0 0 0 0 0 0 0 0 1 0\n",
      " 0 0 0 0 0 0 0 0 0 0 0 1 0 0 0 0 0 0 0 0 0 0 0 0 0 0 0 0 0 1 0 0 0 0 0 1 0\n",
      " 0 0 1 1 0 0 0 0 0 0 0 0 0 0 0 0 0 0 0 1 0 0 0 0 0 0 1 0 0 0 0 0 0 1 1 1 0\n",
      " 1 1 0 0 0 0 0 0 0 0 0 0 0 0 0 0 1 0 0 0 0 0 1 0 0 1 0 0 0 1 0 0 0 0 0 0 1\n",
      " 0 0 0 0 0 1 0 1 0 0 0 0 0 0 0]\n"
     ]
    }
   ],
   "source": [
    "logistic_model = LogisticRegression()\n",
    "logistic_model.fit(admissions[[\"gpa\"]], admissions[\"admit\"])\n",
    "\n",
    "fitted_labels = logistic_model.predict(admissions[[\"gpa\"]])\n",
    "\n",
    "print (fitted_labels)"
   ]
  },
  {
   "cell_type": "code",
   "execution_count": 11,
   "metadata": {
    "collapsed": false
   },
   "outputs": [
    {
     "data": {
      "text/plain": [
       "numpy.ndarray"
      ]
     },
     "execution_count": 11,
     "metadata": {},
     "output_type": "execute_result"
    }
   ],
   "source": [
    "type(fitted_labels)"
   ]
  },
  {
   "cell_type": "code",
   "execution_count": 12,
   "metadata": {
    "collapsed": false
   },
   "outputs": [
    {
     "data": {
      "text/plain": [
       "pandas.core.series.Series"
      ]
     },
     "execution_count": 12,
     "metadata": {},
     "output_type": "execute_result"
    }
   ],
   "source": [
    "type(admissions[\"gpa\"])"
   ]
  },
  {
   "cell_type": "code",
   "execution_count": 13,
   "metadata": {
    "collapsed": false
   },
   "outputs": [
    {
     "data": {
      "text/plain": [
       "pandas.core.series.Series"
      ]
     },
     "execution_count": 13,
     "metadata": {},
     "output_type": "execute_result"
    }
   ],
   "source": [
    "type(admissions.gpa)"
   ]
  },
  {
   "cell_type": "code",
   "execution_count": 14,
   "metadata": {
    "collapsed": true
   },
   "outputs": [],
   "source": [
    "admissions[\"predicted_label\"] = fitted_labels"
   ]
  },
  {
   "cell_type": "code",
   "execution_count": 15,
   "metadata": {
    "collapsed": false
   },
   "outputs": [
    {
     "data": {
      "text/html": [
       "<div>\n",
       "<table border=\"1\" class=\"dataframe\">\n",
       "  <thead>\n",
       "    <tr style=\"text-align: right;\">\n",
       "      <th></th>\n",
       "      <th>admit</th>\n",
       "      <th>gpa</th>\n",
       "      <th>gre</th>\n",
       "      <th>predicted_label</th>\n",
       "    </tr>\n",
       "  </thead>\n",
       "  <tbody>\n",
       "    <tr>\n",
       "      <th>0</th>\n",
       "      <td>0</td>\n",
       "      <td>3.177277</td>\n",
       "      <td>594.102992</td>\n",
       "      <td>0</td>\n",
       "    </tr>\n",
       "    <tr>\n",
       "      <th>1</th>\n",
       "      <td>0</td>\n",
       "      <td>3.412655</td>\n",
       "      <td>631.528607</td>\n",
       "      <td>0</td>\n",
       "    </tr>\n",
       "    <tr>\n",
       "      <th>2</th>\n",
       "      <td>0</td>\n",
       "      <td>2.728097</td>\n",
       "      <td>553.714399</td>\n",
       "      <td>0</td>\n",
       "    </tr>\n",
       "    <tr>\n",
       "      <th>3</th>\n",
       "      <td>0</td>\n",
       "      <td>3.093559</td>\n",
       "      <td>551.089985</td>\n",
       "      <td>0</td>\n",
       "    </tr>\n",
       "    <tr>\n",
       "      <th>4</th>\n",
       "      <td>0</td>\n",
       "      <td>3.141923</td>\n",
       "      <td>537.184894</td>\n",
       "      <td>0</td>\n",
       "    </tr>\n",
       "    <tr>\n",
       "      <th>5</th>\n",
       "      <td>0</td>\n",
       "      <td>3.599108</td>\n",
       "      <td>442.763567</td>\n",
       "      <td>0</td>\n",
       "    </tr>\n",
       "    <tr>\n",
       "      <th>6</th>\n",
       "      <td>0</td>\n",
       "      <td>3.238972</td>\n",
       "      <td>667.472189</td>\n",
       "      <td>0</td>\n",
       "    </tr>\n",
       "    <tr>\n",
       "      <th>7</th>\n",
       "      <td>0</td>\n",
       "      <td>3.420177</td>\n",
       "      <td>561.713905</td>\n",
       "      <td>0</td>\n",
       "    </tr>\n",
       "    <tr>\n",
       "      <th>8</th>\n",
       "      <td>0</td>\n",
       "      <td>3.562482</td>\n",
       "      <td>590.340371</td>\n",
       "      <td>0</td>\n",
       "    </tr>\n",
       "    <tr>\n",
       "      <th>9</th>\n",
       "      <td>0</td>\n",
       "      <td>3.910495</td>\n",
       "      <td>463.470183</td>\n",
       "      <td>1</td>\n",
       "    </tr>\n",
       "  </tbody>\n",
       "</table>\n",
       "</div>"
      ],
      "text/plain": [
       "   admit       gpa         gre  predicted_label\n",
       "0      0  3.177277  594.102992                0\n",
       "1      0  3.412655  631.528607                0\n",
       "2      0  2.728097  553.714399                0\n",
       "3      0  3.093559  551.089985                0\n",
       "4      0  3.141923  537.184894                0\n",
       "5      0  3.599108  442.763567                0\n",
       "6      0  3.238972  667.472189                0\n",
       "7      0  3.420177  561.713905                0\n",
       "8      0  3.562482  590.340371                0\n",
       "9      0  3.910495  463.470183                1"
      ]
     },
     "execution_count": 15,
     "metadata": {},
     "output_type": "execute_result"
    }
   ],
   "source": [
    "admissions.head(10)"
   ]
  },
  {
   "cell_type": "code",
   "execution_count": 16,
   "metadata": {
    "collapsed": false
   },
   "outputs": [
    {
     "data": {
      "text/plain": [
       "0    598\n",
       "1     46\n",
       "dtype: int64"
      ]
     },
     "execution_count": 16,
     "metadata": {},
     "output_type": "execute_result"
    }
   ],
   "source": [
    "#value_counts is a series method\n",
    "admissions[\"predicted_label\"].value_counts()"
   ]
  },
  {
   "cell_type": "code",
   "execution_count": 17,
   "metadata": {
    "collapsed": false
   },
   "outputs": [],
   "source": [
    "admissions[\"actual_label\"] = admissions[\"admit\"]\n",
    "#Compare, and assign the resulting series object to matches.\n",
    "matches = admissions[\"actual_label\"] == admissions[\"predicted_label\"]"
   ]
  },
  {
   "cell_type": "code",
   "execution_count": 18,
   "metadata": {
    "collapsed": false
   },
   "outputs": [
    {
     "data": {
      "text/html": [
       "<div>\n",
       "<table border=\"1\" class=\"dataframe\">\n",
       "  <thead>\n",
       "    <tr style=\"text-align: right;\">\n",
       "      <th></th>\n",
       "      <th>admit</th>\n",
       "      <th>gpa</th>\n",
       "      <th>gre</th>\n",
       "      <th>predicted_label</th>\n",
       "      <th>actual_label</th>\n",
       "    </tr>\n",
       "  </thead>\n",
       "  <tbody>\n",
       "    <tr>\n",
       "      <th>0</th>\n",
       "      <td>0</td>\n",
       "      <td>3.177277</td>\n",
       "      <td>594.102992</td>\n",
       "      <td>0</td>\n",
       "      <td>0</td>\n",
       "    </tr>\n",
       "    <tr>\n",
       "      <th>1</th>\n",
       "      <td>0</td>\n",
       "      <td>3.412655</td>\n",
       "      <td>631.528607</td>\n",
       "      <td>0</td>\n",
       "      <td>0</td>\n",
       "    </tr>\n",
       "    <tr>\n",
       "      <th>2</th>\n",
       "      <td>0</td>\n",
       "      <td>2.728097</td>\n",
       "      <td>553.714399</td>\n",
       "      <td>0</td>\n",
       "      <td>0</td>\n",
       "    </tr>\n",
       "    <tr>\n",
       "      <th>3</th>\n",
       "      <td>0</td>\n",
       "      <td>3.093559</td>\n",
       "      <td>551.089985</td>\n",
       "      <td>0</td>\n",
       "      <td>0</td>\n",
       "    </tr>\n",
       "    <tr>\n",
       "      <th>4</th>\n",
       "      <td>0</td>\n",
       "      <td>3.141923</td>\n",
       "      <td>537.184894</td>\n",
       "      <td>0</td>\n",
       "      <td>0</td>\n",
       "    </tr>\n",
       "    <tr>\n",
       "      <th>5</th>\n",
       "      <td>0</td>\n",
       "      <td>3.599108</td>\n",
       "      <td>442.763567</td>\n",
       "      <td>0</td>\n",
       "      <td>0</td>\n",
       "    </tr>\n",
       "    <tr>\n",
       "      <th>6</th>\n",
       "      <td>0</td>\n",
       "      <td>3.238972</td>\n",
       "      <td>667.472189</td>\n",
       "      <td>0</td>\n",
       "      <td>0</td>\n",
       "    </tr>\n",
       "    <tr>\n",
       "      <th>7</th>\n",
       "      <td>0</td>\n",
       "      <td>3.420177</td>\n",
       "      <td>561.713905</td>\n",
       "      <td>0</td>\n",
       "      <td>0</td>\n",
       "    </tr>\n",
       "    <tr>\n",
       "      <th>8</th>\n",
       "      <td>0</td>\n",
       "      <td>3.562482</td>\n",
       "      <td>590.340371</td>\n",
       "      <td>0</td>\n",
       "      <td>0</td>\n",
       "    </tr>\n",
       "    <tr>\n",
       "      <th>9</th>\n",
       "      <td>0</td>\n",
       "      <td>3.910495</td>\n",
       "      <td>463.470183</td>\n",
       "      <td>1</td>\n",
       "      <td>0</td>\n",
       "    </tr>\n",
       "  </tbody>\n",
       "</table>\n",
       "</div>"
      ],
      "text/plain": [
       "   admit       gpa         gre  predicted_label  actual_label\n",
       "0      0  3.177277  594.102992                0             0\n",
       "1      0  3.412655  631.528607                0             0\n",
       "2      0  2.728097  553.714399                0             0\n",
       "3      0  3.093559  551.089985                0             0\n",
       "4      0  3.141923  537.184894                0             0\n",
       "5      0  3.599108  442.763567                0             0\n",
       "6      0  3.238972  667.472189                0             0\n",
       "7      0  3.420177  561.713905                0             0\n",
       "8      0  3.562482  590.340371                0             0\n",
       "9      0  3.910495  463.470183                1             0"
      ]
     },
     "execution_count": 18,
     "metadata": {},
     "output_type": "execute_result"
    }
   ],
   "source": [
    "admissions.head(10)"
   ]
  },
  {
   "cell_type": "code",
   "execution_count": 19,
   "metadata": {
    "collapsed": false
   },
   "outputs": [
    {
     "data": {
      "text/plain": [
       "0     True\n",
       "1     True\n",
       "2     True\n",
       "3     True\n",
       "4     True\n",
       "5     True\n",
       "6     True\n",
       "7     True\n",
       "8     True\n",
       "9    False\n",
       "dtype: bool"
      ]
     },
     "execution_count": 19,
     "metadata": {},
     "output_type": "execute_result"
    }
   ],
   "source": [
    "matches.head(10)"
   ]
  },
  {
   "cell_type": "code",
   "execution_count": 20,
   "metadata": {
    "collapsed": true
   },
   "outputs": [],
   "source": [
    "correct_predictions = admissions[matches]"
   ]
  },
  {
   "cell_type": "code",
   "execution_count": 21,
   "metadata": {
    "collapsed": false
   },
   "outputs": [
    {
     "name": "stdout",
     "output_type": "stream",
     "text": [
      "<class 'pandas.core.frame.DataFrame'>\n",
      "416\n"
     ]
    }
   ],
   "source": [
    "print type(correct_predictions)\n",
    "print len(correct_predictions)"
   ]
  },
  {
   "cell_type": "code",
   "execution_count": 22,
   "metadata": {
    "collapsed": false
   },
   "outputs": [
    {
     "name": "stdout",
     "output_type": "stream",
     "text": [
      "<class 'pandas.core.frame.DataFrame'>\n",
      "644\n"
     ]
    }
   ],
   "source": [
    "print type(admissions)\n",
    "print len(admissions)"
   ]
  },
  {
   "cell_type": "code",
   "execution_count": 23,
   "metadata": {
    "collapsed": false
   },
   "outputs": [
    {
     "name": "stdout",
     "output_type": "stream",
     "text": [
      "0\n"
     ]
    }
   ],
   "source": [
    "#Check why I can't print values (0-1). Expected value 0.646.\n",
    "accuracy = len(correct_predictions) / len(admissions)\n",
    "print(accuracy)"
   ]
  },
  {
   "cell_type": "code",
   "execution_count": 24,
   "metadata": {
    "collapsed": false
   },
   "outputs": [
    {
     "name": "stdout",
     "output_type": "stream",
     "text": [
      "31\n",
      "385\n",
      "213\n",
      "15\n"
     ]
    }
   ],
   "source": [
    "true_positive_filter = (admissions[\"predicted_label\"] == 1) & (admissions[\"actual_label\"] == 1)\n",
    "true_positives = len(admissions[true_positive_filter])\n",
    "\n",
    "true_negative_filter = (admissions[\"predicted_label\"] == 0) & (admissions[\"actual_label\"] == 0)\n",
    "true_negatives = len(admissions[true_negative_filter])\n",
    "\n",
    "false_negative_filter = (admissions[\"predicted_label\"] == 0) & (admissions[\"actual_label\"] == 1)\n",
    "false_negatives = len(admissions[false_negative_filter])\n",
    "\n",
    "false_positive_filter = (admissions[\"predicted_label\"] == 1) & (admissions[\"actual_label\"] == 0)\n",
    "false_positives = len(admissions[false_positive_filter])\n",
    "\n",
    "print(true_positives)\n",
    "print(true_negatives)\n",
    "print (false_negatives)\n",
    "print (false_positives)"
   ]
  },
  {
   "cell_type": "code",
   "execution_count": 25,
   "metadata": {
    "collapsed": false
   },
   "outputs": [
    {
     "name": "stdout",
     "output_type": "stream",
     "text": [
      "<class 'pandas.core.series.Series'>\n",
      "<class 'pandas.core.frame.DataFrame'>\n"
     ]
    }
   ],
   "source": [
    "#Discuss\n",
    "print type(true_negative_filter)\n",
    "print type(admissions[true_positive_filter])"
   ]
  },
  {
   "cell_type": "code",
   "execution_count": 26,
   "metadata": {
    "collapsed": false
   },
   "outputs": [
    {
     "name": "stdout",
     "output_type": "stream",
     "text": [
      "0\n"
     ]
    }
   ],
   "source": [
    "#Expected 0.12704918032786885\n",
    "\n",
    "sensitivity = true_positives / (true_positives + false_negatives)\n",
    "print(sensitivity)"
   ]
  },
  {
   "cell_type": "code",
   "execution_count": 27,
   "metadata": {
    "collapsed": false
   },
   "outputs": [
    {
     "name": "stdout",
     "output_type": "stream",
     "text": [
      "0\n"
     ]
    }
   ],
   "source": [
    "#Expected 0.9625\n",
    "\n",
    "specificity = (true_negatives) / (false_positives + true_negatives)\n",
    "print(specificity)"
   ]
  },
  {
   "cell_type": "markdown",
   "metadata": {},
   "source": [
    "CROSS-VALIDATION"
   ]
  },
  {
   "cell_type": "code",
   "execution_count": 28,
   "metadata": {
    "collapsed": false
   },
   "outputs": [
    {
     "name": "stdout",
     "output_type": "stream",
     "text": [
      "        gpa         gre  actual_label\n",
      "0  3.177277  594.102992             0\n",
      "1  3.412655  631.528607             0\n",
      "2  2.728097  553.714399             0\n",
      "3  3.093559  551.089985             0\n",
      "4  3.141923  537.184894             0\n"
     ]
    }
   ],
   "source": [
    "admissions = pd.read_csv(\"admissions.csv\")\n",
    "admissions[\"actual_label\"] = admissions[\"admit\"]\n",
    "admissions = admissions.drop(\"admit\", axis=1)\n",
    "\n",
    "print(admissions.head())"
   ]
  },
  {
   "cell_type": "code",
   "execution_count": 29,
   "metadata": {
    "collapsed": true
   },
   "outputs": [],
   "source": [
    "#Use the NumPy rand.permutation function to randomize the index for the \n",
    "#admissions Dataframe. Returns a list containing index values in random order.\n",
    "shuffled_index = np.random.permutation(admissions.index)"
   ]
  },
  {
   "cell_type": "code",
   "execution_count": 30,
   "metadata": {
    "collapsed": true
   },
   "outputs": [],
   "source": [
    "#Use the loc[] method on the admissions Dataframe to return a new Dataframe in \n",
    "#the randomized order(in that list's order). Assign this Dataframe to \n",
    "#shuffled_admissions.\n",
    "shuffled_admissions = admissions.loc[shuffled_index] \n",
    "#RHS is a new dataframe in the randomized order."
   ]
  },
  {
   "cell_type": "code",
   "execution_count": 31,
   "metadata": {
    "collapsed": false
   },
   "outputs": [
    {
     "data": {
      "text/html": [
       "<div>\n",
       "<table border=\"1\" class=\"dataframe\">\n",
       "  <thead>\n",
       "    <tr style=\"text-align: right;\">\n",
       "      <th></th>\n",
       "      <th>gpa</th>\n",
       "      <th>gre</th>\n",
       "      <th>actual_label</th>\n",
       "    </tr>\n",
       "  </thead>\n",
       "  <tbody>\n",
       "    <tr>\n",
       "      <th>239</th>\n",
       "      <td>3.279092</td>\n",
       "      <td>636.202022</td>\n",
       "      <td>0</td>\n",
       "    </tr>\n",
       "    <tr>\n",
       "      <th>315</th>\n",
       "      <td>3.511414</td>\n",
       "      <td>589.376252</td>\n",
       "      <td>0</td>\n",
       "    </tr>\n",
       "    <tr>\n",
       "      <th>165</th>\n",
       "      <td>3.320750</td>\n",
       "      <td>716.173275</td>\n",
       "      <td>0</td>\n",
       "    </tr>\n",
       "    <tr>\n",
       "      <th>140</th>\n",
       "      <td>3.250496</td>\n",
       "      <td>596.057868</td>\n",
       "      <td>0</td>\n",
       "    </tr>\n",
       "    <tr>\n",
       "      <th>112</th>\n",
       "      <td>3.343741</td>\n",
       "      <td>494.847425</td>\n",
       "      <td>0</td>\n",
       "    </tr>\n",
       "  </tbody>\n",
       "</table>\n",
       "</div>"
      ],
      "text/plain": [
       "          gpa         gre  actual_label\n",
       "239  3.279092  636.202022             0\n",
       "315  3.511414  589.376252             0\n",
       "165  3.320750  716.173275             0\n",
       "140  3.250496  596.057868             0\n",
       "112  3.343741  494.847425             0"
      ]
     },
     "execution_count": 31,
     "metadata": {},
     "output_type": "execute_result"
    }
   ],
   "source": [
    "shuffled_admissions.head()"
   ]
  },
  {
   "cell_type": "code",
   "execution_count": 32,
   "metadata": {
    "collapsed": true
   },
   "outputs": [],
   "source": [
    "#Select rows 0 to 514 (including row 514) from shuffled_admissions \n",
    "#and assign to train. This is 80% of 644\n",
    "train = shuffled_admissions.iloc[0:515]"
   ]
  },
  {
   "cell_type": "code",
   "execution_count": 33,
   "metadata": {
    "collapsed": false
   },
   "outputs": [],
   "source": [
    "test = shuffled_admissions.iloc[515:len(shuffled_admissions)]"
   ]
  },
  {
   "cell_type": "code",
   "execution_count": 34,
   "metadata": {
    "collapsed": false
   },
   "outputs": [
    {
     "data": {
      "text/html": [
       "<div>\n",
       "<table border=\"1\" class=\"dataframe\">\n",
       "  <thead>\n",
       "    <tr style=\"text-align: right;\">\n",
       "      <th></th>\n",
       "      <th>gpa</th>\n",
       "      <th>gre</th>\n",
       "      <th>actual_label</th>\n",
       "    </tr>\n",
       "  </thead>\n",
       "  <tbody>\n",
       "    <tr>\n",
       "      <th>239</th>\n",
       "      <td>3.279092</td>\n",
       "      <td>636.202022</td>\n",
       "      <td>0</td>\n",
       "    </tr>\n",
       "    <tr>\n",
       "      <th>315</th>\n",
       "      <td>3.511414</td>\n",
       "      <td>589.376252</td>\n",
       "      <td>0</td>\n",
       "    </tr>\n",
       "    <tr>\n",
       "      <th>165</th>\n",
       "      <td>3.320750</td>\n",
       "      <td>716.173275</td>\n",
       "      <td>0</td>\n",
       "    </tr>\n",
       "    <tr>\n",
       "      <th>140</th>\n",
       "      <td>3.250496</td>\n",
       "      <td>596.057868</td>\n",
       "      <td>0</td>\n",
       "    </tr>\n",
       "    <tr>\n",
       "      <th>112</th>\n",
       "      <td>3.343741</td>\n",
       "      <td>494.847425</td>\n",
       "      <td>0</td>\n",
       "    </tr>\n",
       "  </tbody>\n",
       "</table>\n",
       "</div>"
      ],
      "text/plain": [
       "          gpa         gre  actual_label\n",
       "239  3.279092  636.202022             0\n",
       "315  3.511414  589.376252             0\n",
       "165  3.320750  716.173275             0\n",
       "140  3.250496  596.057868             0\n",
       "112  3.343741  494.847425             0"
      ]
     },
     "execution_count": 34,
     "metadata": {},
     "output_type": "execute_result"
    }
   ],
   "source": [
    "train.head()"
   ]
  },
  {
   "cell_type": "code",
   "execution_count": 36,
   "metadata": {
    "collapsed": false
   },
   "outputs": [
    {
     "name": "stdout",
     "output_type": "stream",
     "text": [
      "0\n"
     ]
    },
    {
     "name": "stderr",
     "output_type": "stream",
     "text": [
      "C:\\Users\\Swapnil Kant Neeraj\\Anaconda\\lib\\site-packages\\IPython\\kernel\\__main__.py:6: SettingWithCopyWarning: \n",
      "A value is trying to be set on a copy of a slice from a DataFrame.\n",
      "Try using .loc[row_indexer,col_indexer] = value instead\n",
      "\n",
      "See the the caveats in the documentation: http://pandas.pydata.org/pandas-docs/stable/indexing.html#indexing-view-versus-copy\n"
     ]
    }
   ],
   "source": [
    "model = LogisticRegression()\n",
    "model.fit(train[[\"gpa\"]], train[\"actual_label\"])\n",
    "\n",
    "labels = model.predict(test[[\"gpa\"]])\n",
    "#Assign the resulting list of labels to the predicted_label column in the test Dataframe.\n",
    "test[\"predicted_label\"] = labels\n",
    "\n",
    "matches = test[\"predicted_label\"] == test[\"actual_label\"]\n",
    "correct_predictions = test[matches]\n",
    "\n",
    "#Calculate the accuracy of the predictions by dividing the number of rows where actual_label matches predicted_label by the total number of rows in the test set.\n",
    "accuracy = len(correct_predictions) / len(test)\n",
    "print(accuracy)\n",
    "#check. Expected .62"
   ]
  },
  {
   "cell_type": "code",
   "execution_count": 37,
   "metadata": {
    "collapsed": false
   },
   "outputs": [
    {
     "name": "stdout",
     "output_type": "stream",
     "text": [
      "0\n",
      "0\n"
     ]
    }
   ],
   "source": [
    "#Calculating sensitivity and specificity for the predictions on the test set\n",
    "true_positive_filter = (test[\"predicted_label\"] == 1) & (test[\"actual_label\"] == 1)\n",
    "true_positives = len(test[true_positive_filter])\n",
    "false_negative_filter = (test[\"predicted_label\"] == 0) & (test[\"actual_label\"] == 1)\n",
    "false_negatives = len(test[false_negative_filter])\n",
    "\n",
    "sensitivity = true_positives / (true_positives + false_negatives)\n",
    "print(sensitivity)\n",
    "\n",
    "false_positive_filter = (test[\"predicted_label\"] == 1) & (test[\"actual_label\"] == 0)\n",
    "false_positives = len(test[false_positive_filter])\n",
    "true_negative_filter = (test[\"predicted_label\"] == 0) & (test[\"actual_label\"] == 0)\n",
    "true_negatives = len(test[true_negative_filter])\n",
    "\n",
    "specificity = (true_negatives) / (false_positives + true_negatives)\n",
    "print(specificity)\n",
    "\n",
    "#Check. Expected 7,1"
   ]
  },
  {
   "cell_type": "code",
   "execution_count": 38,
   "metadata": {
    "collapsed": true
   },
   "outputs": [],
   "source": [
    "probabilities = model.predict_proba(test[[\"gpa\"]])"
   ]
  },
  {
   "cell_type": "code",
   "execution_count": 39,
   "metadata": {
    "collapsed": true
   },
   "outputs": [],
   "source": [
    "#package needed to calculate ROC\n",
    "from sklearn import metrics"
   ]
  },
  {
   "cell_type": "code",
   "execution_count": 40,
   "metadata": {
    "collapsed": false
   },
   "outputs": [
    {
     "data": {
      "text/plain": [
       "[<matplotlib.lines.Line2D at 0x831a3b0>]"
      ]
     },
     "execution_count": 40,
     "metadata": {},
     "output_type": "execute_result"
    },
    {
     "data": {
      "image/png": "[encoded data removed]",
      "text/plain": [
       "<matplotlib.figure.Figure at 0x7a6d390>"
      ]
     },
     "metadata": {},
     "output_type": "display_data"
    }
   ],
   "source": [
    "#Discuss\n",
    "fpr, tpr, thresholds = metrics.roc_curve(test[\"actual_label\"], probabilities[:,1])\n",
    "#(x,y)\n",
    "plt.plot(fpr, tpr)"
   ]
  },
  {
   "cell_type": "code",
   "execution_count": 42,
   "metadata": {
    "collapsed": true
   },
   "outputs": [],
   "source": [
    "from sklearn.metrics import roc_auc_score"
   ]
  },
  {
   "cell_type": "code",
   "execution_count": 43,
   "metadata": {
    "collapsed": false
   },
   "outputs": [
    {
     "name": "stdout",
     "output_type": "stream",
     "text": [
      "0.647352647353\n"
     ]
    }
   ],
   "source": [
    "#Calculating the AUC score for our model on the training set and assign to auc_score.\n",
    "\n",
    "probabilities = model.predict_proba(test[[\"gpa\"]])\n",
    "\n",
    "auc_score = roc_auc_score(test[\"actual_label\"], probabilities[:,1])\n",
    "print(auc_score)"
   ]
  },
  {
   "cell_type": "markdown",
   "metadata": {
    "collapsed": true
   },
   "source": [
    "##K-Fold Cross Validation"
   ]
  },
  {
   "cell_type": "code",
   "execution_count": 3,
   "metadata": {
    "collapsed": false
   },
   "outputs": [],
   "source": [
    "import pandas as pd\n",
    "admissions = pd.read_csv(\"admissions.csv\")\n",
    "#Renaming the admit column.\n",
    "admissions[\"actual_label\"] = admissions[\"admit\"]\n",
    "admissions = admissions.drop(\"admit\", axis=1)"
   ]
  },
  {
   "cell_type": "code",
   "execution_count": 5,
   "metadata": {
    "collapsed": false
   },
   "outputs": [],
   "source": [
    "#Randomizing the ordering of rows\n",
    "import numpy as np\n",
    "shuffled_index = np.random.permutation(admissions.index)\n",
    "shuffled_admissions = admissions.loc[shuffled_index]\n",
    "admissions = shuffled_admissions.reset_index()"
   ]
  },
  {
   "cell_type": "code",
   "execution_count": 7,
   "metadata": {
    "collapsed": false
   },
   "outputs": [
    {
     "name": "stdout",
     "output_type": "stream",
     "text": [
      "   index       gpa         gre  actual_label  fold\n",
      "0    235  2.943825  535.580440             0     1\n",
      "1    508  3.307257  607.524874             1     1\n",
      "2    538  3.598454  626.424155             1     1\n",
      "3    154  2.867291  600.364710             0     1\n",
      "4    607  3.252482  662.340801             1     1\n",
      "     index       gpa         gre  actual_label  fold\n",
      "639    579  3.636720  597.825593             1     5\n",
      "640    131  2.904997  607.113067             0     5\n",
      "641    364  3.348772  605.968197             0     5\n",
      "642    111  3.011533  578.212886             0     5\n",
      "643     35  3.393302  614.052755             0     5\n"
     ]
    }
   ],
   "source": [
    "#Partition the dataset into 5 folds and store each row's fold in a new integer \n",
    "#column named fold\n",
    "admissions.ix[0:128, \"fold\"] = 1\n",
    "admissions.ix[129:257, \"fold\"] = 2\n",
    "admissions.ix[258:386, \"fold\"] = 3\n",
    "admissions.ix[386:514, \"fold\"] = 4\n",
    "admissions.ix[514:644, \"fold\"] = 5\n",
    "\n",
    "print(admissions.head())\n",
    "print(admissions.tail())"
   ]
  },
  {
   "cell_type": "code",
   "execution_count": 8,
   "metadata": {
    "collapsed": false
   },
   "outputs": [
    {
     "name": "stdout",
     "output_type": "stream",
     "text": [
      "0\n"
     ]
    },
    {
     "name": "stderr",
     "output_type": "stream",
     "text": [
      "C:\\Users\\Swapnil Kant Neeraj\\Anaconda\\lib\\site-packages\\IPython\\kernel\\__main__.py:15: SettingWithCopyWarning: \n",
      "A value is trying to be set on a copy of a slice from a DataFrame.\n",
      "Try using .loc[row_indexer,col_indexer] = value instead\n",
      "\n",
      "See the the caveats in the documentation: http://pandas.pydata.org/pandas-docs/stable/indexing.html#indexing-view-versus-copy\n"
     ]
    }
   ],
   "source": [
    "#First iteration\n",
    "#assigning fold 1 as the test set and folds 2 to 5 as the training set\n",
    "\n",
    "\n",
    "from sklearn.linear_model import LogisticRegression\n",
    "\n",
    "# Training\n",
    "model = LogisticRegression()\n",
    "train_iteration_one = admissions[admissions[\"fold\"] != 1]\n",
    "test_iteration_one = admissions[admissions[\"fold\"] == 1]\n",
    "model.fit(train_iteration_one[[\"gpa\"]], train_iteration_one[\"actual_label\"])\n",
    "\n",
    "# Predicting labels on the test set using the model.\n",
    "labels = model.predict(test_iteration_one[[\"gpa\"]])\n",
    "test_iteration_one[\"predicted_label\"] = labels\n",
    "\n",
    "matches = test_iteration_one[\"predicted_label\"] == test_iteration_one[\"actual_label\"]\n",
    "correct_predictions = test_iteration_one[matches]\n",
    "iteration_one_accuracy = len(correct_predictions) / len(test_iteration_one)\n",
    "print(iteration_one_accuracy)\n",
    "#should be 0.604"
   ]
  },
  {
   "cell_type": "code",
   "execution_count": 9,
   "metadata": {
    "collapsed": false
   },
   "outputs": [
    {
     "name": "stdout",
     "output_type": "stream",
     "text": [
      "[0, 0, 0, 0, 0]\n",
      "0.0\n"
     ]
    },
    {
     "name": "stderr",
     "output_type": "stream",
     "text": [
      "C:\\Users\\Swapnil Kant Neeraj\\Anaconda\\lib\\site-packages\\IPython\\kernel\\__main__.py:15: SettingWithCopyWarning: \n",
      "A value is trying to be set on a copy of a slice from a DataFrame.\n",
      "Try using .loc[row_indexer,col_indexer] = value instead\n",
      "\n",
      "See the the caveats in the documentation: http://pandas.pydata.org/pandas-docs/stable/indexing.html#indexing-view-versus-copy\n"
     ]
    }
   ],
   "source": [
    "#Writing a function for training models\n",
    "#will take in a df and a list of fold ids and return a list of accuracy values\n",
    "# Use np.mean to calculate the mean.\n",
    "\n",
    "fold_ids = [1,2,3,4,5]\n",
    "\n",
    "def train_and_test(df, folds):\n",
    "    fold_accuracies = []\n",
    "    for fold in folds:\n",
    "        model = LogisticRegression()\n",
    "        train = admissions[admissions[\"fold\"] != fold]\n",
    "        test = admissions[admissions[\"fold\"] == fold]\n",
    "        model.fit(train[[\"gpa\"]], train[\"actual_label\"])\n",
    "        labels = model.predict(test[[\"gpa\"]])\n",
    "        test[\"predicted_label\"] = labels\n",
    "\n",
    "        matches = test[\"predicted_label\"] == test[\"actual_label\"]\n",
    "        correct_predictions = test[matches]\n",
    "        fold_accuracies.append(len(correct_predictions) / len(test))\n",
    "    return(fold_accuracies)\n",
    "\n",
    "accuracies = train_and_test(admissions, fold_ids)\n",
    "print(accuracies)\n",
    "average_accuracy = np.mean(accuracies)\n",
    "print(average_accuracy)\n",
    "\n",
    "#Expected answer: [0.6046511627906976, 0.6589147286821705, 0.6640625, 0.6796875, 0.6230769230769231]\n",
    "#0.64607856291 \n",
    "\n",
    "#A healthy accuracy for each fold should be 61-63. "
   ]
  },
  {
   "cell_type": "code",
   "execution_count": 10,
   "metadata": {
    "collapsed": false
   },
   "outputs": [
    {
     "name": "stdout",
     "output_type": "stream",
     "text": [
      "[ 0.6124031   0.65891473  0.64341085  0.6744186   0.6328125 ]\n",
      "0.644391957364\n"
     ]
    }
   ],
   "source": [
    "#Notes below\n",
    "\n",
    "from sklearn.cross_validation import KFold\n",
    "from sklearn.cross_validation import cross_val_score\n",
    "\n",
    "admissions = pd.read_csv(\"admissions.csv\")\n",
    "admissions[\"actual_label\"] = admissions[\"admit\"]\n",
    "admissions = admissions.drop(\"admit\", axis=1)\n",
    "\n",
    "#Creating a new instance of KFold class with n set to length of admissions, 5 folds\n",
    "kf = KFold(len(admissions), 5, shuffle=True, random_state=8)\n",
    "\n",
    "#Creating a new instance of Logistic Regression\n",
    "lr = LogisticRegression()\n",
    "\n",
    "#Function will use lr, gpa for training, actual_label as the target column, \n",
    "#and return an array of accuracy values, i.e., one for each fold.\n",
    "accuracies = cross_val_score(lr,admissions[[\"gpa\"]], admissions[\"actual_label\"], scoring=\"accuracy\", cv=kf)\n",
    "average_accuracy = sum(accuracies) / len(accuracies)\n",
    "\n",
    "print(accuracies)\n",
    "print(average_accuracy)"
   ]
  },
  {
   "cell_type": "markdown",
   "metadata": {
    "collapsed": true
   },
   "source": [
    "Using sklearn\n",
    "kf = KFold(n, n_folds, shuffle = False , random_state = None )\n",
    "(n is the number of observations in the dataset, n_folds is the number of folds \n",
    "you want to use, shuffle is used to toggle shuffling of the ordering of the\n",
    "observations in the dataset)\n",
    "\n",
    "Note: only the first parameter depends on the dataset at all. This is because the KFold class returns an iterator object but won't actually handle the training and testing of models. \n",
    "\n",
    "If we're primarily only interested in accuracy and error metrics for each fold, we can use the KFold class in conjunction with the cross_val_score function , which will handle training and testing of the models in each fold.\n",
    "\n",
    "Here are the relevant parameters for the cross_val_score function:\n",
    "cross_val_score(estimator, X, Y, scoring = None , cv = None )\n",
    "where:\n",
    "● estimator is a sklearn model that implements the fit method (e.g.\n",
    "instance of LinearRegression or LogisticRegression),\n",
    "● X is the list or 2D array containing the features you want to train\n",
    "on,\n",
    "● y is a list containing the values you want to predict (target column),\n",
    "● scoring is a string describing the scoring criteria (list of accepted\n",
    "values here ).\n",
    "● cv describes the number of folds. Here are some examples of\n",
    "accepted values:\n",
    "○ an instance of the KFold class,\n",
    "○ an integer representing the number of folds.\n",
    "\n",
    "Depending on the scoring criteria you specify, either a single value is\n",
    "returned (e.g. average_precision ) or an array of values (e.g. accuracy ), one\n",
    "value for each fold.\n",
    "Here's the general workflow for performing kfold\n",
    "crossvalidation\n",
    "using\n",
    "the classes we just described:\n",
    "● instantiate the model class you want to fit (e.g. LogisticRegression),\n",
    "● instantiate the KFold class and using the parameters to specify the\n",
    "kfold\n",
    "crossvalidation\n",
    "attributes you want,\n",
    "● use the cross_val_score function to return the scoring metric you're\n",
    "interested in.\n"
   ]
  },
  {
   "cell_type": "markdown",
   "metadata": {},
   "source": [
    "When you're using multiple features to train a model (multivariate models), performing kfold crossvalidation can give you a better sense of the accuracy you should expect when you use the model on data it wasn't trained on."
   ]
  }
 ],
 "metadata": {
  "kernelspec": {
   "display_name": "Python 2",
   "language": "python",
   "name": "python2"
  },
  "language_info": {
   "codemirror_mode": {
    "name": "ipython",
    "version": 2
   },
   "file_extension": ".py",
   "mimetype": "text/x-python",
   "name": "python",
   "nbconvert_exporter": "python",
   "pygments_lexer": "ipython2",
   "version": "2.7.10"
  }
 },
 "nbformat": 4,
 "nbformat_minor": 0
}
