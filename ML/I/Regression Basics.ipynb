{
 "cells": [
  {
   "cell_type": "markdown",
   "metadata": {},
   "source": [
    "Dataset from here: https://finance.yahoo.com/q/hp?s=%5EGSPC+Historical+Prices"
   ]
  },
  {
   "cell_type": "code",
   "execution_count": 16,
   "metadata": {
    "collapsed": false
   },
   "outputs": [
    {
     "data": {
      "text/html": [
       "<div>\n",
       "<table border=\"1\" class=\"dataframe\">\n",
       "  <thead>\n",
       "    <tr style=\"text-align: right;\">\n",
       "      <th></th>\n",
       "      <th>date</th>\n",
       "      <th>value</th>\n",
       "    </tr>\n",
       "  </thead>\n",
       "  <tbody>\n",
       "    <tr>\n",
       "      <th>0</th>\n",
       "      <td>1/3/1950</td>\n",
       "      <td>16.66</td>\n",
       "    </tr>\n",
       "    <tr>\n",
       "      <th>1</th>\n",
       "      <td>1/4/1950</td>\n",
       "      <td>16.85</td>\n",
       "    </tr>\n",
       "    <tr>\n",
       "      <th>2</th>\n",
       "      <td>1/5/1950</td>\n",
       "      <td>16.93</td>\n",
       "    </tr>\n",
       "    <tr>\n",
       "      <th>3</th>\n",
       "      <td>1/6/1950</td>\n",
       "      <td>16.98</td>\n",
       "    </tr>\n",
       "    <tr>\n",
       "      <th>4</th>\n",
       "      <td>1/9/1950</td>\n",
       "      <td>17.08</td>\n",
       "    </tr>\n",
       "  </tbody>\n",
       "</table>\n",
       "</div>"
      ],
      "text/plain": [
       "       date  value\n",
       "0  1/3/1950  16.66\n",
       "1  1/4/1950  16.85\n",
       "2  1/5/1950  16.93\n",
       "3  1/6/1950  16.98\n",
       "4  1/9/1950  17.08"
      ]
     },
     "execution_count": 16,
     "metadata": {},
     "output_type": "execute_result"
    }
   ],
   "source": [
    "import pandas\n",
    "sp500 = pandas.read_csv(\"sp500.csv\")\n",
    "sp500.head()"
   ]
  },
  {
   "cell_type": "code",
   "execution_count": 17,
   "metadata": {
    "collapsed": false
   },
   "outputs": [
    {
     "data": {
      "text/plain": [
       "Index([u'date', u'value'], dtype='object')"
      ]
     },
     "execution_count": 17,
     "metadata": {},
     "output_type": "execute_result"
    }
   ],
   "source": [
    "sp500.columns"
   ]
  },
  {
   "cell_type": "code",
   "execution_count": 18,
   "metadata": {
    "collapsed": false
   },
   "outputs": [],
   "source": [
    "#sp500 = sp500[sp500[\"value\"] != \".\"]"
   ]
  },
  {
   "cell_type": "code",
   "execution_count": 19,
   "metadata": {
    "collapsed": false
   },
   "outputs": [
    {
     "name": "stdout",
     "output_type": "stream",
     "text": [
      "            date        value\n",
      "16724  6/21/2016  2088.899902\n",
      "16725  6/22/2016  2085.449951\n",
      "16726  6/23/2016  2113.320068\n",
      "16727  6/24/2016  2037.300049\n",
      "16728  6/27/2016  2000.540039\n",
      "16729  6/28/2016  2036.089966\n",
      "16730  6/29/2016  2070.770020\n",
      "16731  6/30/2016  2098.860107\n",
      "16732   7/1/2016  2102.949951\n",
      "16733   7/5/2016  2088.550049\n",
      "            date        value     next_day\n",
      "16723  6/20/2016  2083.250000  2088.899902\n",
      "16724  6/21/2016  2088.899902  2085.449951\n",
      "16725  6/22/2016  2085.449951  2113.320068\n",
      "16726  6/23/2016  2113.320068  2037.300049\n",
      "16727  6/24/2016  2037.300049  2000.540039\n",
      "16728  6/27/2016  2000.540039  2036.089966\n",
      "16729  6/28/2016  2036.089966  2070.770020\n",
      "16730  6/29/2016  2070.770020  2098.860107\n",
      "16731  6/30/2016  2098.860107  2102.949951\n",
      "16732   7/1/2016  2102.949951  2088.550049\n"
     ]
    }
   ],
   "source": [
    "# This prints the last 10 rows -- note where the dataset ends.\n",
    "print(sp500.tail(10))\n",
    "\n",
    "next_day = sp500[\"value\"].iloc[1:]\n",
    "\n",
    "#since the row row needs to be dropped- won't have a next day\n",
    "sp500 = sp500.iloc[:-1,:]\n",
    "sp500[\"next_day\"] = next_day.values\n",
    "#one shifted to make the value for next day. \n",
    "print(sp500.tail(10))"
   ]
  },
  {
   "cell_type": "markdown",
   "metadata": {
    "collapsed": true
   },
   "source": [
    "\"In order to use the next_day and value columns in a machine learning algorithm, they will need to be converted to be floats first. This is because machine learning algorithms can't deal with strings.\""
   ]
  },
  {
   "cell_type": "code",
   "execution_count": 20,
   "metadata": {
    "collapsed": false
   },
   "outputs": [],
   "source": [
    "sp500[\"next_day\"] = sp500[\"next_day\"].astype(float)\n",
    "sp500[\"value\"] = sp500[\"value\"].astype(float)"
   ]
  },
  {
   "cell_type": "code",
   "execution_count": 21,
   "metadata": {
    "collapsed": false
   },
   "outputs": [
    {
     "data": {
      "text/html": [
       "<div>\n",
       "<table border=\"1\" class=\"dataframe\">\n",
       "  <thead>\n",
       "    <tr style=\"text-align: right;\">\n",
       "      <th></th>\n",
       "      <th>date</th>\n",
       "      <th>value</th>\n",
       "      <th>next_day</th>\n",
       "    </tr>\n",
       "  </thead>\n",
       "  <tbody>\n",
       "    <tr>\n",
       "      <th>0</th>\n",
       "      <td>1/3/1950</td>\n",
       "      <td>16.66</td>\n",
       "      <td>16.850000</td>\n",
       "    </tr>\n",
       "    <tr>\n",
       "      <th>1</th>\n",
       "      <td>1/4/1950</td>\n",
       "      <td>16.85</td>\n",
       "      <td>16.930000</td>\n",
       "    </tr>\n",
       "    <tr>\n",
       "      <th>2</th>\n",
       "      <td>1/5/1950</td>\n",
       "      <td>16.93</td>\n",
       "      <td>16.980000</td>\n",
       "    </tr>\n",
       "    <tr>\n",
       "      <th>3</th>\n",
       "      <td>1/6/1950</td>\n",
       "      <td>16.98</td>\n",
       "      <td>17.080000</td>\n",
       "    </tr>\n",
       "    <tr>\n",
       "      <th>4</th>\n",
       "      <td>1/9/1950</td>\n",
       "      <td>17.08</td>\n",
       "      <td>17.030001</td>\n",
       "    </tr>\n",
       "  </tbody>\n",
       "</table>\n",
       "</div>"
      ],
      "text/plain": [
       "       date  value   next_day\n",
       "0  1/3/1950  16.66  16.850000\n",
       "1  1/4/1950  16.85  16.930000\n",
       "2  1/5/1950  16.93  16.980000\n",
       "3  1/6/1950  16.98  17.080000\n",
       "4  1/9/1950  17.08  17.030001"
      ]
     },
     "execution_count": 21,
     "metadata": {},
     "output_type": "execute_result"
    }
   ],
   "source": [
    "sp500.head(5)"
   ]
  },
  {
   "cell_type": "markdown",
   "metadata": {},
   "source": [
    "Now, using the value column to predict the next_day column in the sp500 dataframe."
   ]
  },
  {
   "cell_type": "code",
   "execution_count": 22,
   "metadata": {
    "collapsed": true
   },
   "outputs": [],
   "source": [
    "# Import the linear regression class\n",
    "from sklearn.linear_model import LinearRegression\n",
    "\n",
    "# Initialize the linear regression class.\n",
    "regressor = LinearRegression()"
   ]
  },
  {
   "cell_type": "code",
   "execution_count": 23,
   "metadata": {
    "collapsed": false
   },
   "outputs": [
    {
     "name": "stdout",
     "output_type": "stream",
     "text": [
      "[   16.7319435     16.92196407    17.00197273 ...,  2071.06435428\n",
      "  2099.15748249  2103.24776928]\n"
     ]
    }
   ],
   "source": [
    "# We're using 'value' as a predictor, and making predictions for 'next_day'.\n",
    "# The predictors need to be in a dataframe.\n",
    "# We pass in a list when we select predictor columns from \"sp500\" to force pandas not to generate a series.\n",
    "predictors = sp500[[\"value\"]]\n",
    "to_predict = sp500[\"next_day\"] #actual values\n",
    "\n",
    "# Train the linear regression model on our dataset.\n",
    "regressor.fit(predictors, to_predict)\n",
    "\n",
    "# Generate a list of predictions with our trained linear regression model\n",
    "next_day_predictions = regressor.predict(predictors)\n",
    "print(next_day_predictions) #predicted values"
   ]
  },
  {
   "cell_type": "markdown",
   "metadata": {},
   "source": [
    "So far, fit a model and made predictions, now figure out the error of our model. Mean Squared Error. We take each prediction, and each actual observed value, and subtract them from each other. Then, we square the resulting differences and add them all together. Then, we divide that sum by the number of predictions made."
   ]
  },
  {
   "cell_type": "code",
   "execution_count": 25,
   "metadata": {
    "collapsed": false
   },
   "outputs": [],
   "source": [
    "# The actual values are in to_predict, and the predictions are in next_day_predictions.\n",
    "mse = sum((to_predict - next_day_predictions) ** 2)\n",
    "mse /= len(next_day_predictions)"
   ]
  },
  {
   "cell_type": "code",
   "execution_count": 28,
   "metadata": {
    "collapsed": false
   },
   "outputs": [
    {
     "data": {
      "text/plain": [
       "67.396946807063571"
      ]
     },
     "execution_count": 28,
     "metadata": {},
     "output_type": "execute_result"
    }
   ],
   "source": [
    "mse"
   ]
  },
  {
   "cell_type": "markdown",
   "metadata": {},
   "source": [
    "Our model was trained using the same data we predicted on.\n",
    "Now, fixing overgitting. Splitting into training and test sets."
   ]
  },
  {
   "cell_type": "code",
   "execution_count": 29,
   "metadata": {
    "collapsed": true
   },
   "outputs": [],
   "source": [
    "import numpy as np\n",
    "import random\n",
    "\n",
    "# Set a random seed to make the shuffle deterministic.\n",
    "np.random.seed(1)\n",
    "random.seed(1)"
   ]
  },
  {
   "cell_type": "code",
   "execution_count": 30,
   "metadata": {
    "collapsed": true
   },
   "outputs": [],
   "source": [
    "# Randomly shuffle the rows in our dataframe\n",
    "sp500 = sp500.loc[np.random.permutation(sp500.index)]"
   ]
  },
  {
   "cell_type": "code",
   "execution_count": 34,
   "metadata": {
    "collapsed": false
   },
   "outputs": [
    {
     "data": {
      "text/html": [
       "<div>\n",
       "<table border=\"1\" class=\"dataframe\">\n",
       "  <thead>\n",
       "    <tr style=\"text-align: right;\">\n",
       "      <th></th>\n",
       "      <th>date</th>\n",
       "      <th>value</th>\n",
       "      <th>next_day</th>\n",
       "    </tr>\n",
       "  </thead>\n",
       "  <tbody>\n",
       "    <tr>\n",
       "      <th>5243</th>\n",
       "      <td>12/16/1970</td>\n",
       "      <td>89.720001</td>\n",
       "      <td>90.040001</td>\n",
       "    </tr>\n",
       "    <tr>\n",
       "      <th>5176</th>\n",
       "      <td>9/11/1970</td>\n",
       "      <td>82.519997</td>\n",
       "      <td>82.070000</td>\n",
       "    </tr>\n",
       "    <tr>\n",
       "      <th>6405</th>\n",
       "      <td>7/25/1975</td>\n",
       "      <td>89.290001</td>\n",
       "      <td>88.690002</td>\n",
       "    </tr>\n",
       "    <tr>\n",
       "      <th>22</th>\n",
       "      <td>2/2/1950</td>\n",
       "      <td>17.230000</td>\n",
       "      <td>17.290001</td>\n",
       "    </tr>\n",
       "    <tr>\n",
       "      <th>110</th>\n",
       "      <td>6/12/1950</td>\n",
       "      <td>19.400000</td>\n",
       "      <td>19.250000</td>\n",
       "    </tr>\n",
       "  </tbody>\n",
       "</table>\n",
       "</div>"
      ],
      "text/plain": [
       "            date      value   next_day\n",
       "5243  12/16/1970  89.720001  90.040001\n",
       "5176   9/11/1970  82.519997  82.070000\n",
       "6405   7/25/1975  89.290001  88.690002\n",
       "22      2/2/1950  17.230000  17.290001\n",
       "110    6/12/1950  19.400000  19.250000"
      ]
     },
     "execution_count": 34,
     "metadata": {},
     "output_type": "execute_result"
    }
   ],
   "source": [
    "# Select 70% of the dataset to be training data\n",
    "highest_train_row = int(sp500.shape[0] * .7)\n",
    "train = sp500.loc[:highest_train_row,:]\n",
    "train.head()"
   ]
  },
  {
   "cell_type": "code",
   "execution_count": 35,
   "metadata": {
    "collapsed": false
   },
   "outputs": [
    {
     "data": {
      "text/html": [
       "<div>\n",
       "<table border=\"1\" class=\"dataframe\">\n",
       "  <thead>\n",
       "    <tr style=\"text-align: right;\">\n",
       "      <th></th>\n",
       "      <th>date</th>\n",
       "      <th>value</th>\n",
       "      <th>next_day</th>\n",
       "    </tr>\n",
       "  </thead>\n",
       "  <tbody>\n",
       "    <tr>\n",
       "      <th>11713</th>\n",
       "      <td>7/24/1996</td>\n",
       "      <td>626.650024</td>\n",
       "      <td>631.169983</td>\n",
       "    </tr>\n",
       "    <tr>\n",
       "      <th>1579</th>\n",
       "      <td>4/20/1956</td>\n",
       "      <td>47.759998</td>\n",
       "      <td>47.650002</td>\n",
       "    </tr>\n",
       "    <tr>\n",
       "      <th>8730</th>\n",
       "      <td>10/4/1984</td>\n",
       "      <td>162.919998</td>\n",
       "      <td>162.679993</td>\n",
       "    </tr>\n",
       "    <tr>\n",
       "      <th>8469</th>\n",
       "      <td>9/23/1983</td>\n",
       "      <td>169.509995</td>\n",
       "      <td>170.070007</td>\n",
       "    </tr>\n",
       "    <tr>\n",
       "      <th>1016</th>\n",
       "      <td>1/27/1954</td>\n",
       "      <td>26.010000</td>\n",
       "      <td>26.020000</td>\n",
       "    </tr>\n",
       "  </tbody>\n",
       "</table>\n",
       "</div>"
      ],
      "text/plain": [
       "            date       value    next_day\n",
       "11713  7/24/1996  626.650024  631.169983\n",
       "1579   4/20/1956   47.759998   47.650002\n",
       "8730   10/4/1984  162.919998  162.679993\n",
       "8469   9/23/1983  169.509995  170.070007\n",
       "1016   1/27/1954   26.010000   26.020000"
      ]
     },
     "execution_count": 35,
     "metadata": {},
     "output_type": "execute_result"
    }
   ],
   "source": [
    "# Select 30% of the dataset to be test data.\n",
    "test = sp500.loc[highest_train_row:,:]\n",
    "test.head()"
   ]
  },
  {
   "cell_type": "code",
   "execution_count": 33,
   "metadata": {
    "collapsed": true
   },
   "outputs": [],
   "source": [
    "regressor = LinearRegression()"
   ]
  },
  {
   "cell_type": "code",
   "execution_count": 43,
   "metadata": {
    "collapsed": false
   },
   "outputs": [
    {
     "name": "stdout",
     "output_type": "stream",
     "text": [
      "[  626.70460546    47.84310522   162.99743052 ...,    86.55120072\n",
      "  1109.55080724    19.80448794]\n"
     ]
    }
   ],
   "source": [
    "predictors = train[[\"value\"]]\n",
    "to_predict = train[\"next_day\"]\n",
    "\n",
    "# Train the linear regression model on our dataset.\n",
    "regressor.fit(predictors, to_predict)\n",
    "\n",
    "#To make predictions on the test set.\n",
    "predictors_test = test[[\"value\"]]\n",
    "to_predict_test = test[\"next_day\"]\n",
    "\n",
    "# Generate a list of predictions with our trained linear regression model\n",
    "predictions = regressor.predict(predictors_test)\n",
    "print(predictions)"
   ]
  },
  {
   "cell_type": "code",
   "execution_count": 44,
   "metadata": {
    "collapsed": false
   },
   "outputs": [
    {
     "data": {
      "text/plain": [
       "63.616044615167588"
      ]
     },
     "execution_count": 44,
     "metadata": {},
     "output_type": "execute_result"
    }
   ],
   "source": [
    "# The actual values are in to_predict, and the predictions are in next_day_predictions.\n",
    "mse = sum((to_predict_test - next_day_predictions) ** 2)\n",
    "mse /= len(predictions)\n",
    "mse"
   ]
  },
  {
   "cell_type": "code",
   "execution_count": 45,
   "metadata": {
    "collapsed": true
   },
   "outputs": [],
   "source": [
    "import matplotlib.pyplot as plt\n",
    "\n",
    "# Make a scatterplot with the actual values in the testing set\n",
    "plt.scatter(test[\"value\"], test[\"next_day\"])\n",
    "\n",
    "plt.plot(test[\"value\"], regressor.predict(test[[\"value\"]]))\n",
    "\n",
    "plt.show()"
   ]
  },
  {
   "cell_type": "markdown",
   "metadata": {},
   "source": [
    "Root mean squared error, or RMSE, and mean absolute error, or MAE. MSE and RMSE, because they square the errors, penalize large errors way out of proportion to small errors. MAE, on the other hand, doesn't. MAE can be useful, because it is a more accurate look at the average error."
   ]
  },
  {
   "cell_type": "code",
   "execution_count": 46,
   "metadata": {
    "collapsed": true
   },
   "outputs": [],
   "source": [
    "# The test set predictions are in the predictions variable.\n",
    "import math\n",
    "rmse = math.sqrt(sum((predictions - test[\"next_day\"]) ** 2) / len(predictions))\n",
    "mae = sum(abs(predictions - test[\"next_day\"])) / len(predictions)"
   ]
  },
  {
   "cell_type": "code",
   "execution_count": null,
   "metadata": {
    "collapsed": true
   },
   "outputs": [],
   "source": []
  }
 ],
 "metadata": {
  "kernelspec": {
   "display_name": "Python 2",
   "language": "python",
   "name": "python2"
  },
  "language_info": {
   "codemirror_mode": {
    "name": "ipython",
    "version": 2
   },
   "file_extension": ".py",
   "mimetype": "text/x-python",
   "name": "python",
   "nbconvert_exporter": "python",
   "pygments_lexer": "ipython2",
   "version": "2.7.10"
  }
 },
 "nbformat": 4,
 "nbformat_minor": 0
}
