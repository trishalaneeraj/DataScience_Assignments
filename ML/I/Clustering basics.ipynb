{
 "cells": [
  {
   "cell_type": "markdown",
   "metadata": {},
   "source": [
    "One of the main unsupervised learning techniques is called clustering.\n",
    "Senators typically vote in accordance with how their political party votes,\n",
    "known as voting along party lines. In the US, the 2 main political parties are\n",
    "the Democrats , who tend to be liberal , and the Republicans , who tend to be\n",
    "conservative . Senators can also choose to be unaffiliated with a party, and\n",
    "vote as Independents, although very few choose to do so.\n",
    "Clustering voting data of Senators is particularly interesting because it can\n",
    "expose patterns that go deeper than party affiliation. For example, some\n",
    "Republicans are more liberal than the rest of their party. Looking at voting\n",
    "data can help us discover the Senators who are more or less in the\n",
    "mainstream of their party."
   ]
  },
  {
   "cell_type": "code",
   "execution_count": 11,
   "metadata": {
    "collapsed": true
   },
   "outputs": [],
   "source": [
    "import pandas as pd\n",
    "votes = pd.read_csv(\"114_congress.csv\")"
   ]
  },
  {
   "cell_type": "code",
   "execution_count": 12,
   "metadata": {
    "collapsed": false
   },
   "outputs": [
    {
     "name": "stdout",
     "output_type": "stream",
     "text": [
      "        name party state  00001  00004  00005  00006  00007  00008  00009  \\\n",
      "0  Alexander     R    TN      0      1      1      1      1      0      0   \n",
      "1     Ayotte     R    NH      0      1      1      1      1      0      0   \n",
      "2    Baldwin     D    WI      1      0      0      1      0      1      0   \n",
      "3   Barrasso     R    WY      0      1      1      1      1      0      1   \n",
      "4     Bennet     D    CO      0      0      0      1      0      1      0   \n",
      "\n",
      "   00010  00020  00026  00032  00038  00039  00044  00047  \n",
      "0      1      1      1      0      0      0      0      0  \n",
      "1      1      0      1      0      1      0      1      0  \n",
      "2      1      0      0      1      1      0      1      1  \n",
      "3      1      1      1      0      0      1      0      0  \n",
      "4      1      0      0      0      1      0      1      0  \n"
     ]
    }
   ],
   "source": [
    "print votes.head() "
   ]
  },
  {
   "cell_type": "code",
   "execution_count": 13,
   "metadata": {
    "collapsed": false
   },
   "outputs": [
    {
     "name": "stdout",
     "output_type": "stream",
     "text": [
      "R    54\n",
      "D    44\n",
      "I     2\n",
      "dtype: int64\n"
     ]
    }
   ],
   "source": [
    "#Find how many Senators are in each party.\n",
    "print (votes[\"party\"].value_counts())"
   ]
  },
  {
   "cell_type": "code",
   "execution_count": 14,
   "metadata": {
    "collapsed": false
   },
   "outputs": [
    {
     "name": "stdout",
     "output_type": "stream",
     "text": [
      "00001    0.325\n",
      "00004    0.575\n",
      "00005    0.535\n",
      "00006    0.945\n",
      "00007    0.545\n",
      "00008    0.415\n",
      "00009    0.545\n",
      "00010    0.985\n",
      "00020    0.525\n",
      "00026    0.545\n",
      "00032    0.410\n",
      "00038    0.480\n",
      "00039    0.510\n",
      "00044    0.460\n",
      "00047    0.370\n",
      "dtype: float64\n"
     ]
    }
   ],
   "source": [
    "#Finding what the \"avaerage\" vote for each bill was.\n",
    "#Use the mean() method on the votes Dataframe. If the mean for a column is less than .5, more Senators voted against the bill, and vice versa if it's over .5. Print the results.\n",
    "print (votes.mean())"
   ]
  },
  {
   "cell_type": "code",
   "execution_count": 5,
   "metadata": {
    "collapsed": false
   },
   "outputs": [
    {
     "data": {
      "text/plain": [
       "array([[ 3.31662479]])"
      ]
     },
     "execution_count": 5,
     "metadata": {},
     "output_type": "execute_result"
    }
   ],
   "source": [
    "from sklearn.metrics.pairwise import euclidean_distances\n",
    "#Compute the Euclidean distance between the first row and the third row.\n",
    "#(select columns after the first 3 because the first 3 are\n",
    "#name , party , and state , which are not numeric.)\n",
    "distance = euclidean_distances(votes.iloc[0,3:], votes.iloc[2,3:])\n",
    "distance"
   ]
  },
  {
   "cell_type": "code",
   "execution_count": 6,
   "metadata": {
    "collapsed": true
   },
   "outputs": [],
   "source": [
    "#kmeans clustering uses Euclidean distance to form clusters of similar Senators.\n",
    "#Each cluster is assigned a center, and the Euclidean distance from each \n",
    "#Senator to the center is computed. Senators are assigned\n",
    "#to clusters based on which one they are closest to.\n",
    "\n",
    "import pandas as pd\n",
    "from sklearn.cluster import KMeans\n",
    "\n",
    "kmeans_model = KMeans(n_clusters=2, random_state=1)\n",
    "\n",
    "#Because we aren't predicting anything, there's no risk of overfitting, so we'll\n",
    "#train our model on the whole dataset. After training, we'll be able to extract\n",
    "#cluster labels that indicate what cluster each Senator belongs to.\n",
    "#Use the fit_transform() method to fit kmeans_model on the votes DataFrame. \n",
    "#Only select columns after the first 3 from votes when fitting.\n",
    "\n",
    "senator_distances = kmeans_model.fit_transform(votes.iloc[:,3:])"
   ]
  },
  {
   "cell_type": "code",
   "execution_count": 17,
   "metadata": {
    "collapsed": false
   },
   "outputs": [
    {
     "name": "stdout",
     "output_type": "stream",
     "text": [
      "party   D  I   R\n",
      "row_0           \n",
      "0      41  2   0\n",
      "1       3  0  54\n"
     ]
    }
   ],
   "source": [
    "#Use the labels_ attribute to extract the cluster labels for each Senator from \n",
    "#kmeans_model\n",
    "labels = kmeans_model.labels_\n",
    "\n",
    "#The crosstab() method takes in two vectors or Pandas Series and computes how\n",
    "#many times each unique value in the second vector occurs for each unique value\n",
    "#in the first vector.\n",
    "#Creating a table comparing labels to votes[\"party\"], in that order.\n",
    "print(pd.crosstab(labels, votes[\"party\"]))\n",
    "\n",
    "#This will show us if the clusters tend to break down along party lines or not."
   ]
  },
  {
   "cell_type": "markdown",
   "metadata": {},
   "source": [
    "Result: both of our clusters mostly broke down along party lines. The\n",
    "first cluster contains 41 Democrats, and both Independents. The second\n",
    "cluster contains 3 Democrats, and 54 Republicans. No Republicans seem to have broken party ranks to vote with the Democrats, but 3 Democrats are more similar to Republicans in their voting than their own party. (0: cluster1, 1:cluster2)\n",
    "\n",
    "To explore these 3 in more depth (so we can figure out why that\n",
    "is)- by subsetting votes to only select rows where the party\n",
    "column is D , and the labels variable is 1 , indicating that the Senator is in the second cluster. We can perform this subsetting with Pandas."
   ]
  },
  {
   "cell_type": "code",
   "execution_count": 8,
   "metadata": {
    "collapsed": false
   },
   "outputs": [
    {
     "name": "stdout",
     "output_type": "stream",
     "text": [
      "        name party state  00001  00004  00005  00006  00007  00008  00009  \\\n",
      "42  Heitkamp     D    ND    0.0    1.0    0.0    1.0    0.0    0.0    1.0   \n",
      "56   Manchin     D    WV    0.0    1.0    0.0    1.0    0.0    0.0    1.0   \n",
      "74      Reid     D    NV    0.5    0.5    0.5    0.5    0.5    0.5    0.5   \n",
      "\n",
      "    00010  00020  00026  00032  00038  00039  00044  00047  \n",
      "42    1.0    0.0    0.0    0.0    1.0    0.0    0.0    0.0  \n",
      "56    1.0    1.0    0.0    0.0    1.0    1.0    0.0    0.0  \n",
      "74    0.5    0.5    0.5    0.5    0.5    0.5    0.5    0.5  \n"
     ]
    }
   ],
   "source": [
    "#Subsetting, i.e., Selecting all Independents in the first cluster:\n",
    "#votes[(labels == 0) & (votes[\"party\"] == \"I\")]\n",
    "\n",
    "\n",
    "#Selecting all Democrats in votes who were assigned to the first cluster.\n",
    "democratic_outliers = votes[(labels == 1) & (votes[\"party\"] == \"D\")]\n",
    "print (democratic_outliers)"
   ]
  },
  {
   "cell_type": "code",
   "execution_count": 9,
   "metadata": {
    "collapsed": false
   },
   "outputs": [
    {
     "data": {
      "image/png": "[encoded data removed]",
      "text/plain": [
       "<matplotlib.figure.Figure at 0xdd37530>"
      ]
     },
     "metadata": {},
     "output_type": "display_data"
    }
   ],
   "source": [
    "import matplotlib.pyplot as plt\n",
    "%matplotlib inline\n",
    "\n",
    "\n",
    "#x should be the first column of senator_distances. y should be the second column\n",
    "#of senator_distances. c should be labels. \n",
    "#This will shade the points according to label.\n",
    "plt.scatter(x=senator_distances[:,0], y=senator_distances[:,1], c=labels)\n",
    "plt.show()"
   ]
  },
  {
   "cell_type": "markdown",
   "metadata": {},
   "source": [
    "The most extreme Senators are those who are the furthest away from one\n",
    "cluster. For example, a radical Republican would be as far from the\n",
    "Democratic cluster as possible. Senators who are in between both clusters are\n",
    "more moderate, as they fall i/n between the views of the two parties. (See notes)"
   ]
  },
  {
   "cell_type": "code",
   "execution_count": 19,
   "metadata": {
    "collapsed": false
   },
   "outputs": [
    {
     "ename": "AttributeError",
     "evalue": "'DataFrame' object has no attribute 'sort_values'",
     "output_type": "error",
     "traceback": [
      "\u001b[1;31m---------------------------------------------------------------------------\u001b[0m",
      "\u001b[1;31mAttributeError\u001b[0m                            Traceback (most recent call last)",
      "\u001b[1;32m<ipython-input-19-2954f63c85b5>\u001b[0m in \u001b[0;36m<module>\u001b[1;34m()\u001b[0m\n\u001b[0;32m     10\u001b[0m \u001b[0mvotes\u001b[0m\u001b[1;33m[\u001b[0m\u001b[1;34m\"extremism\"\u001b[0m\u001b[1;33m]\u001b[0m \u001b[1;33m=\u001b[0m \u001b[0mextremism\u001b[0m\u001b[1;33m\u001b[0m\u001b[0m\n\u001b[0;32m     11\u001b[0m \u001b[1;33m\u001b[0m\u001b[0m\n\u001b[1;32m---> 12\u001b[1;33m \u001b[0mvotes\u001b[0m\u001b[1;33m.\u001b[0m\u001b[0msort_values\u001b[0m\u001b[1;33m(\u001b[0m\u001b[1;34m\"extremism\"\u001b[0m\u001b[1;33m,\u001b[0m \u001b[0minplace\u001b[0m\u001b[1;33m=\u001b[0m\u001b[0mTrue\u001b[0m\u001b[1;33m,\u001b[0m \u001b[0mascending\u001b[0m\u001b[1;33m=\u001b[0m\u001b[0mFalse\u001b[0m\u001b[1;33m)\u001b[0m\u001b[1;33m\u001b[0m\u001b[0m\n\u001b[0m\u001b[0;32m     13\u001b[0m \u001b[1;33m\u001b[0m\u001b[0m\n\u001b[0;32m     14\u001b[0m \u001b[1;32mprint\u001b[0m\u001b[1;33m(\u001b[0m\u001b[0mvotes\u001b[0m\u001b[1;33m.\u001b[0m\u001b[0mhead\u001b[0m\u001b[1;33m(\u001b[0m\u001b[1;36m10\u001b[0m\u001b[1;33m)\u001b[0m\u001b[1;33m)\u001b[0m\u001b[1;33m\u001b[0m\u001b[0m\n",
      "\u001b[1;32mC:\\Users\\Swapnil Kant Neeraj\\Anaconda\\lib\\site-packages\\pandas\\core\\generic.pyc\u001b[0m in \u001b[0;36m__getattr__\u001b[1;34m(self, name)\u001b[0m\n\u001b[0;32m   2148\u001b[0m                 \u001b[1;32mreturn\u001b[0m \u001b[0mself\u001b[0m\u001b[1;33m[\u001b[0m\u001b[0mname\u001b[0m\u001b[1;33m]\u001b[0m\u001b[1;33m\u001b[0m\u001b[0m\n\u001b[0;32m   2149\u001b[0m             raise AttributeError(\"'%s' object has no attribute '%s'\" %\n\u001b[1;32m-> 2150\u001b[1;33m                                  (type(self).__name__, name))\n\u001b[0m\u001b[0;32m   2151\u001b[0m \u001b[1;33m\u001b[0m\u001b[0m\n\u001b[0;32m   2152\u001b[0m     \u001b[1;32mdef\u001b[0m \u001b[0m__setattr__\u001b[0m\u001b[1;33m(\u001b[0m\u001b[0mself\u001b[0m\u001b[1;33m,\u001b[0m \u001b[0mname\u001b[0m\u001b[1;33m,\u001b[0m \u001b[0mvalue\u001b[0m\u001b[1;33m)\u001b[0m\u001b[1;33m:\u001b[0m\u001b[1;33m\u001b[0m\u001b[0m\n",
      "\u001b[1;31mAttributeError\u001b[0m: 'DataFrame' object has no attribute 'sort_values'"
     ]
    }
   ],
   "source": [
    "#Compute an extremism rating by cubing every value in senator_distances, then finding the sum across each row. Assign the result to extremism.\n",
    "#Assign the extremism variable to the extremism column of votes.\n",
    "#Sort votes on the extremism column, in descending order, using the sort_values() method on DataFrames.\n",
    "#Print the top 10 most extreme Senators.\n",
    "\n",
    "#(The higher the exponent we raise a set of numbers to, the more separation \n",
    "#we'll see between small values and low values.)\n",
    "extremism = (senator_distances ** 3).sum(axis=1)\n",
    "\n",
    "votes[\"extremism\"] = extremism\n",
    "\n",
    "votes.sort_values(\"extremism\", inplace=True, ascending=False)\n",
    "\n",
    "print(votes.head(10))\n",
    "\n",
    "#Python 3 error maybe?"
   ]
  },
  {
   "cell_type": "code",
   "execution_count": null,
   "metadata": {
    "collapsed": true
   },
   "outputs": [],
   "source": []
  },
  {
   "cell_type": "code",
   "execution_count": null,
   "metadata": {
    "collapsed": true
   },
   "outputs": [],
   "source": []
  }
 ],
 "metadata": {
  "kernelspec": {
   "display_name": "Python 2",
   "language": "python",
   "name": "python2"
  },
  "language_info": {
   "codemirror_mode": {
    "name": "ipython",
    "version": 2
   },
   "file_extension": ".py",
   "mimetype": "text/x-python",
   "name": "python",
   "nbconvert_exporter": "python",
   "pygments_lexer": "ipython2",
   "version": "2.7.10"
  }
 },
 "nbformat": 4,
 "nbformat_minor": 0
}
