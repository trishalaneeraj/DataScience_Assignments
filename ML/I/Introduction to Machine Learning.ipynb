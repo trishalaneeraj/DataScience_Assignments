{
 "cells": [
  {
   "cell_type": "markdown",
   "metadata": {},
   "source": [
    "https://archive.ics.uci.edu/ml/machine-learning-databases/auto-mpg/auto-mpg.data"
   ]
  },
  {
   "cell_type": "code",
   "execution_count": 21,
   "metadata": {
    "collapsed": false
   },
   "outputs": [
    {
     "name": "stdout",
     "output_type": "stream",
     "text": [
      "   mpg  cylinders  displacement horsepower  weight  acceleration  model year  \\\n",
      "0   18          8           307      130.0    3504          12.0          70   \n",
      "1   15          8           350      165.0    3693          11.5          70   \n",
      "2   18          8           318      150.0    3436          11.0          70   \n",
      "3   16          8           304      150.0    3433          12.0          70   \n",
      "4   17          8           302      140.0    3449          10.5          70   \n",
      "\n",
      "   origin                   car name  \n",
      "0       1  chevrolet chevelle malibu  \n",
      "1       1          buick skylark 320  \n",
      "2       1         plymouth satellite  \n",
      "3       1              amc rebel sst  \n",
      "4       1                ford torino  \n"
     ]
    }
   ],
   "source": [
    "import pandas as pd\n",
    "import numpy as np\n",
    "\n",
    "columns = [\"mpg\", \"cylinders\", \"displacement\", \"horsepower\", \"weight\", \"acceleration\", \"model year\", \"origin\", \"car name\"]\n",
    "cars = pd.read_table(\"auto-mpg.data.txt\", delim_whitespace=True, names=columns)\n",
    "print(cars.head(5))"
   ]
  },
  {
   "cell_type": "markdown",
   "metadata": {},
   "source": [
    "Dependent variable: fuel efficiency,\n",
    "Independent variables: other columns "
   ]
  },
  {
   "cell_type": "code",
   "execution_count": 22,
   "metadata": {
    "collapsed": false
   },
   "outputs": [
    {
     "data": {
      "image/png": "[encoded data removed]",
      "text/plain": [
       "<matplotlib.figure.Figure at 0x62dd310>"
      ]
     },
     "metadata": {},
     "output_type": "display_data"
    }
   ],
   "source": [
    "#Exploratory data analysis\n",
    "import matplotlib.pyplot as plt\n",
    "%matplotlib inline\n",
    "fig = plt.figure()\n",
    "ax1 = fig.add_subplot(2,1,1)\n",
    "ax2 = fig.add_subplot(2,1,2)\n",
    "cars.plot(\"weight\", \"mpg\", kind='scatter', ax=ax1)\n",
    "cars.plot(\"acceleration\", \"mpg\", kind='scatter', ax=ax2)\n",
    "plt.show()"
   ]
  },
  {
   "cell_type": "markdown",
   "metadata": {},
   "source": [
    "Plots show:\n",
    "Weak positive relation between acceleration and mpg;\n",
    "Strong naegative relation between weight and mpg"
   ]
  },
  {
   "cell_type": "code",
   "execution_count": 23,
   "metadata": {
    "collapsed": false
   },
   "outputs": [
    {
     "name": "stdout",
     "output_type": "stream",
     "text": [
      "[ 3504.  3693.  3436.  3433.  3449.  4341.  4354.  4312.  4425.  3850.\n",
      "  3563.  3609.  3761.  3086.  2372.  2833.  2774.  2587.  2130.  1835.\n",
      "  2672.  2430.  2375.  2234.  2648.  4615.  4376.  4382.  4732.  2130.\n",
      "  2264.  2228.  2046.  2634.  3439.  3329.  3302.  3288.  4209.  4464.\n",
      "  4154.  4096.  4955.  4746.  5140.  2962.  2408.  3282.  3139.  2220.\n",
      "  2123.  2074.  2065.  1773.  1613.  1834.  1955.  2278.  2126.  2254.\n",
      "  2408.  2226.  4274.  4385.  4135.  4129.  3672.  4633.  4502.  4456.\n",
      "  4422.  2330.  3892.  4098.  4294.  4077.  2933.  2511.  2979.  2189.\n",
      "  2395.  2288.  2506.  2164.  2100.  4100.  3672.  3988.  4042.  3777.\n",
      "  4952.  4464.  4363.  4237.  4735.  4951.  3821.  3121.  3278.  2945.\n",
      "  3021.  2904.  1950.  4997.  4906.  4654.  4499.  2789.  2279.  2401.\n",
      "  2379.  2124.  2310.  2472.  2265.  4082.  4278.  1867.  2158.  2582.\n",
      "  2868.  3399.  2660.  2807.  3664.  3102.  2875.  2901.  3336.  1950.\n",
      "  2451.  1836.  2542.  3781.  3632.  3613.  4141.  4699.  4457.  4638.\n",
      "  4257.  2219.  1963.  2300.  1649.  2003.  2125.  2108.  2246.  2489.\n",
      "  2391.  2000.  3264.  3459.  3432.  3158.  4668.  4440.  4498.  4657.\n",
      "  3907.  3897.  3730.  3785.  3039.  3221.  3169.  2171.  2639.  2914.\n",
      "  2592.  2702.  2223.  2545.  2984.  1937.  3211.  2694.  2957.  2945.\n",
      "  2671.  1795.  2464.  2220.  2572.  2255.  2202.  4215.  4190.  3962.\n",
      "  4215.  3233.  3353.  3012.  3085.  2035.  2164.  1937.  1795.  3651.\n",
      "  3574.  3645.  3193.  1825.  1990.  2155.  2565.  3150.  3940.  3270.\n",
      "  2930.  3820.  4380.  4055.  3870.  3755.  2045.  2155.  1825.  2300.\n",
      "  1945.  3880.  4060.  4140.  4295.  3520.  3425.  3630.  3525.  4220.\n",
      "  4165.  4325.  4335.  1940.  2740.  2265.  2755.  2051.  2075.  1985.\n",
      "  2190.  2815.  2600.  2720.  1985.  1800.  1985.  2070.  1800.  3365.\n",
      "  3735.  3570.  3535.  3155.  2965.  2720.  3430.  3210.  3380.  3070.\n",
      "  3620.  3410.  3425.  3445.  3205.  4080.  2155.  2560.  2300.  2230.\n",
      "  2515.  2745.  2855.  2405.  2830.  3140.  2795.  3410.  1990.  2135.\n",
      "  3245.  2990.  2890.  3265.  3360.  3840.  3725.  3955.  3830.  4360.\n",
      "  4054.  3605.  3940.  1925.  1975.  1915.  2670.  3530.  3900.  3190.\n",
      "  3420.  2200.  2150.  2020.  2130.  2670.  2595.  2700.  2556.  2144.\n",
      "  1968.  2120.  2019.  2678.  2870.  3003.  3381.  2188.  2711.  2542.\n",
      "  2434.  2265.  2110.  2800.  2110.  2085.  2335.  2950.  3250.  1850.\n",
      "  1835.  2145.  1845.  2910.  2420.  2500.  2905.  2290.  2490.  2635.\n",
      "  2620.  2725.  2385.  1755.  1875.  1760.  2065.  1975.  2050.  1985.\n",
      "  2215.  2045.  2380.  2190.  2320.  2210.  2350.  2615.  2635.  3230.\n",
      "  3160.  2900.  2930.  3415.  3725.  3060.  3465.  2605.  2640.  2395.\n",
      "  2575.  2525.  2735.  2865.  3035.  1980.  2025.  1970.  2125.  2125.\n",
      "  2160.  2205.  2245.  1965.  1965.  1995.  2945.  3015.  2585.  2835.\n",
      "  2665.  2370.  2950.  2790.  2130.  2295.  2625.  2720.]\n",
      "[[ 3504.]\n",
      " [ 3693.]\n",
      " [ 3436.]\n",
      " [ 3433.]\n",
      " [ 3449.]\n",
      " [ 4341.]\n",
      " [ 4354.]\n",
      " [ 4312.]\n",
      " [ 4425.]\n",
      " [ 3850.]\n",
      " [ 3563.]\n",
      " [ 3609.]\n",
      " [ 3761.]\n",
      " [ 3086.]\n",
      " [ 2372.]\n",
      " [ 2833.]\n",
      " [ 2774.]\n",
      " [ 2587.]\n",
      " [ 2130.]\n",
      " [ 1835.]\n",
      " [ 2672.]\n",
      " [ 2430.]\n",
      " [ 2375.]\n",
      " [ 2234.]\n",
      " [ 2648.]\n",
      " [ 4615.]\n",
      " [ 4376.]\n",
      " [ 4382.]\n",
      " [ 4732.]\n",
      " [ 2130.]\n",
      " [ 2264.]\n",
      " [ 2228.]\n",
      " [ 2046.]\n",
      " [ 2634.]\n",
      " [ 3439.]\n",
      " [ 3329.]\n",
      " [ 3302.]\n",
      " [ 3288.]\n",
      " [ 4209.]\n",
      " [ 4464.]\n",
      " [ 4154.]\n",
      " [ 4096.]\n",
      " [ 4955.]\n",
      " [ 4746.]\n",
      " [ 5140.]\n",
      " [ 2962.]\n",
      " [ 2408.]\n",
      " [ 3282.]\n",
      " [ 3139.]\n",
      " [ 2220.]\n",
      " [ 2123.]\n",
      " [ 2074.]\n",
      " [ 2065.]\n",
      " [ 1773.]\n",
      " [ 1613.]\n",
      " [ 1834.]\n",
      " [ 1955.]\n",
      " [ 2278.]\n",
      " [ 2126.]\n",
      " [ 2254.]\n",
      " [ 2408.]\n",
      " [ 2226.]\n",
      " [ 4274.]\n",
      " [ 4385.]\n",
      " [ 4135.]\n",
      " [ 4129.]\n",
      " [ 3672.]\n",
      " [ 4633.]\n",
      " [ 4502.]\n",
      " [ 4456.]\n",
      " [ 4422.]\n",
      " [ 2330.]\n",
      " [ 3892.]\n",
      " [ 4098.]\n",
      " [ 4294.]\n",
      " [ 4077.]\n",
      " [ 2933.]\n",
      " [ 2511.]\n",
      " [ 2979.]\n",
      " [ 2189.]\n",
      " [ 2395.]\n",
      " [ 2288.]\n",
      " [ 2506.]\n",
      " [ 2164.]\n",
      " [ 2100.]\n",
      " [ 4100.]\n",
      " [ 3672.]\n",
      " [ 3988.]\n",
      " [ 4042.]\n",
      " [ 3777.]\n",
      " [ 4952.]\n",
      " [ 4464.]\n",
      " [ 4363.]\n",
      " [ 4237.]\n",
      " [ 4735.]\n",
      " [ 4951.]\n",
      " [ 3821.]\n",
      " [ 3121.]\n",
      " [ 3278.]\n",
      " [ 2945.]\n",
      " [ 3021.]\n",
      " [ 2904.]\n",
      " [ 1950.]\n",
      " [ 4997.]\n",
      " [ 4906.]\n",
      " [ 4654.]\n",
      " [ 4499.]\n",
      " [ 2789.]\n",
      " [ 2279.]\n",
      " [ 2401.]\n",
      " [ 2379.]\n",
      " [ 2124.]\n",
      " [ 2310.]\n",
      " [ 2472.]\n",
      " [ 2265.]\n",
      " [ 4082.]\n",
      " [ 4278.]\n",
      " [ 1867.]\n",
      " [ 2158.]\n",
      " [ 2582.]\n",
      " [ 2868.]\n",
      " [ 3399.]\n",
      " [ 2660.]\n",
      " [ 2807.]\n",
      " [ 3664.]\n",
      " [ 3102.]\n",
      " [ 2875.]\n",
      " [ 2901.]\n",
      " [ 3336.]\n",
      " [ 1950.]\n",
      " [ 2451.]\n",
      " [ 1836.]\n",
      " [ 2542.]\n",
      " [ 3781.]\n",
      " [ 3632.]\n",
      " [ 3613.]\n",
      " [ 4141.]\n",
      " [ 4699.]\n",
      " [ 4457.]\n",
      " [ 4638.]\n",
      " [ 4257.]\n",
      " [ 2219.]\n",
      " [ 1963.]\n",
      " [ 2300.]\n",
      " [ 1649.]\n",
      " [ 2003.]\n",
      " [ 2125.]\n",
      " [ 2108.]\n",
      " [ 2246.]\n",
      " [ 2489.]\n",
      " [ 2391.]\n",
      " [ 2000.]\n",
      " [ 3264.]\n",
      " [ 3459.]\n",
      " [ 3432.]\n",
      " [ 3158.]\n",
      " [ 4668.]\n",
      " [ 4440.]\n",
      " [ 4498.]\n",
      " [ 4657.]\n",
      " [ 3907.]\n",
      " [ 3897.]\n",
      " [ 3730.]\n",
      " [ 3785.]\n",
      " [ 3039.]\n",
      " [ 3221.]\n",
      " [ 3169.]\n",
      " [ 2171.]\n",
      " [ 2639.]\n",
      " [ 2914.]\n",
      " [ 2592.]\n",
      " [ 2702.]\n",
      " [ 2223.]\n",
      " [ 2545.]\n",
      " [ 2984.]\n",
      " [ 1937.]\n",
      " [ 3211.]\n",
      " [ 2694.]\n",
      " [ 2957.]\n",
      " [ 2945.]\n",
      " [ 2671.]\n",
      " [ 1795.]\n",
      " [ 2464.]\n",
      " [ 2220.]\n",
      " [ 2572.]\n",
      " [ 2255.]\n",
      " [ 2202.]\n",
      " [ 4215.]\n",
      " [ 4190.]\n",
      " [ 3962.]\n",
      " [ 4215.]\n",
      " [ 3233.]\n",
      " [ 3353.]\n",
      " [ 3012.]\n",
      " [ 3085.]\n",
      " [ 2035.]\n",
      " [ 2164.]\n",
      " [ 1937.]\n",
      " [ 1795.]\n",
      " [ 3651.]\n",
      " [ 3574.]\n",
      " [ 3645.]\n",
      " [ 3193.]\n",
      " [ 1825.]\n",
      " [ 1990.]\n",
      " [ 2155.]\n",
      " [ 2565.]\n",
      " [ 3150.]\n",
      " [ 3940.]\n",
      " [ 3270.]\n",
      " [ 2930.]\n",
      " [ 3820.]\n",
      " [ 4380.]\n",
      " [ 4055.]\n",
      " [ 3870.]\n",
      " [ 3755.]\n",
      " [ 2045.]\n",
      " [ 2155.]\n",
      " [ 1825.]\n",
      " [ 2300.]\n",
      " [ 1945.]\n",
      " [ 3880.]\n",
      " [ 4060.]\n",
      " [ 4140.]\n",
      " [ 4295.]\n",
      " [ 3520.]\n",
      " [ 3425.]\n",
      " [ 3630.]\n",
      " [ 3525.]\n",
      " [ 4220.]\n",
      " [ 4165.]\n",
      " [ 4325.]\n",
      " [ 4335.]\n",
      " [ 1940.]\n",
      " [ 2740.]\n",
      " [ 2265.]\n",
      " [ 2755.]\n",
      " [ 2051.]\n",
      " [ 2075.]\n",
      " [ 1985.]\n",
      " [ 2190.]\n",
      " [ 2815.]\n",
      " [ 2600.]\n",
      " [ 2720.]\n",
      " [ 1985.]\n",
      " [ 1800.]\n",
      " [ 1985.]\n",
      " [ 2070.]\n",
      " [ 1800.]\n",
      " [ 3365.]\n",
      " [ 3735.]\n",
      " [ 3570.]\n",
      " [ 3535.]\n",
      " [ 3155.]\n",
      " [ 2965.]\n",
      " [ 2720.]\n",
      " [ 3430.]\n",
      " [ 3210.]\n",
      " [ 3380.]\n",
      " [ 3070.]\n",
      " [ 3620.]\n",
      " [ 3410.]\n",
      " [ 3425.]\n",
      " [ 3445.]\n",
      " [ 3205.]\n",
      " [ 4080.]\n",
      " [ 2155.]\n",
      " [ 2560.]\n",
      " [ 2300.]\n",
      " [ 2230.]\n",
      " [ 2515.]\n",
      " [ 2745.]\n",
      " [ 2855.]\n",
      " [ 2405.]\n",
      " [ 2830.]\n",
      " [ 3140.]\n",
      " [ 2795.]\n",
      " [ 3410.]\n",
      " [ 1990.]\n",
      " [ 2135.]\n",
      " [ 3245.]\n",
      " [ 2990.]\n",
      " [ 2890.]\n",
      " [ 3265.]\n",
      " [ 3360.]\n",
      " [ 3840.]\n",
      " [ 3725.]\n",
      " [ 3955.]\n",
      " [ 3830.]\n",
      " [ 4360.]\n",
      " [ 4054.]\n",
      " [ 3605.]\n",
      " [ 3940.]\n",
      " [ 1925.]\n",
      " [ 1975.]\n",
      " [ 1915.]\n",
      " [ 2670.]\n",
      " [ 3530.]\n",
      " [ 3900.]\n",
      " [ 3190.]\n",
      " [ 3420.]\n",
      " [ 2200.]\n",
      " [ 2150.]\n",
      " [ 2020.]\n",
      " [ 2130.]\n",
      " [ 2670.]\n",
      " [ 2595.]\n",
      " [ 2700.]\n",
      " [ 2556.]\n",
      " [ 2144.]\n",
      " [ 1968.]\n",
      " [ 2120.]\n",
      " [ 2019.]\n",
      " [ 2678.]\n",
      " [ 2870.]\n",
      " [ 3003.]\n",
      " [ 3381.]\n",
      " [ 2188.]\n",
      " [ 2711.]\n",
      " [ 2542.]\n",
      " [ 2434.]\n",
      " [ 2265.]\n",
      " [ 2110.]\n",
      " [ 2800.]\n",
      " [ 2110.]\n",
      " [ 2085.]\n",
      " [ 2335.]\n",
      " [ 2950.]\n",
      " [ 3250.]\n",
      " [ 1850.]\n",
      " [ 1835.]\n",
      " [ 2145.]\n",
      " [ 1845.]\n",
      " [ 2910.]\n",
      " [ 2420.]\n",
      " [ 2500.]\n",
      " [ 2905.]\n",
      " [ 2290.]\n",
      " [ 2490.]\n",
      " [ 2635.]\n",
      " [ 2620.]\n",
      " [ 2725.]\n",
      " [ 2385.]\n",
      " [ 1755.]\n",
      " [ 1875.]\n",
      " [ 1760.]\n",
      " [ 2065.]\n",
      " [ 1975.]\n",
      " [ 2050.]\n",
      " [ 1985.]\n",
      " [ 2215.]\n",
      " [ 2045.]\n",
      " [ 2380.]\n",
      " [ 2190.]\n",
      " [ 2320.]\n",
      " [ 2210.]\n",
      " [ 2350.]\n",
      " [ 2615.]\n",
      " [ 2635.]\n",
      " [ 3230.]\n",
      " [ 3160.]\n",
      " [ 2900.]\n",
      " [ 2930.]\n",
      " [ 3415.]\n",
      " [ 3725.]\n",
      " [ 3060.]\n",
      " [ 3465.]\n",
      " [ 2605.]\n",
      " [ 2640.]\n",
      " [ 2395.]\n",
      " [ 2575.]\n",
      " [ 2525.]\n",
      " [ 2735.]\n",
      " [ 2865.]\n",
      " [ 3035.]\n",
      " [ 1980.]\n",
      " [ 2025.]\n",
      " [ 1970.]\n",
      " [ 2125.]\n",
      " [ 2125.]\n",
      " [ 2160.]\n",
      " [ 2205.]\n",
      " [ 2245.]\n",
      " [ 1965.]\n",
      " [ 1965.]\n",
      " [ 1995.]\n",
      " [ 2945.]\n",
      " [ 3015.]\n",
      " [ 2585.]\n",
      " [ 2835.]\n",
      " [ 2665.]\n",
      " [ 2370.]\n",
      " [ 2950.]\n",
      " [ 2790.]\n",
      " [ 2130.]\n",
      " [ 2295.]\n",
      " [ 2625.]\n",
      " [ 2720.]]\n"
     ]
    }
   ],
   "source": [
    "# Single NumPy array (398 elements).\n",
    "print(cars[\"weight\"].values)\n",
    "# NumPy matrix (398 rows by 1 column).\n",
    "print(cars[[\"weight\"]].values)"
   ]
  },
  {
   "cell_type": "code",
   "execution_count": 24,
   "metadata": {
    "collapsed": false
   },
   "outputs": [
    {
     "data": {
      "text/plain": [
       "LinearRegression(copy_X=True, fit_intercept=True, n_jobs=1, normalize=False)"
      ]
     },
     "execution_count": 24,
     "metadata": {},
     "output_type": "execute_result"
    }
   ],
   "source": [
    "import sklearn\n",
    "from sklearn.linear_model import LinearRegression\n",
    "lr = LinearRegression()\n",
    "lr.fit(cars[[\"weight\"]], cars[[\"mpg\"]])"
   ]
  },
  {
   "cell_type": "markdown",
   "metadata": {},
   "source": [
    "Now, using the above model to make predictions:"
   ]
  },
  {
   "cell_type": "code",
   "execution_count": 25,
   "metadata": {
    "collapsed": false
   },
   "outputs": [
    {
     "name": "stdout",
     "output_type": "stream",
     "text": [
      "[[ 19.41852276]\n",
      " [ 17.96764345]\n",
      " [ 19.94053224]\n",
      " [ 19.96356207]\n",
      " [ 19.84073631]]\n",
      "0    18\n",
      "1    15\n",
      "2    18\n",
      "3    16\n",
      "4    17\n",
      "Name: mpg, dtype: float64\n"
     ]
    }
   ],
   "source": [
    "predictions = lr.predict(cars[[\"weight\"]])\n",
    "\n",
    "#Comparing results using a few points\n",
    "print(predictions[0:5])\n",
    "print(cars[\"mpg\"][0:5])"
   ]
  },
  {
   "cell_type": "code",
   "execution_count": 26,
   "metadata": {
    "collapsed": false
   },
   "outputs": [
    {
     "data": {
      "text/plain": [
       "<matplotlib.collections.PathCollection at 0xf1d6ad0>"
      ]
     },
     "execution_count": 26,
     "metadata": {},
     "output_type": "execute_result"
    },
    {
     "data": {
      "image/png": "[encoded data removed]",
      "text/plain": [
       "<matplotlib.figure.Figure at 0xefc8c90>"
      ]
     },
     "metadata": {},
     "output_type": "display_data"
    }
   ],
   "source": [
    "#Visualizing the comparisons\n",
    "plt.scatter(cars[\"weight\"], cars[\"mpg\"], c='red')\n",
    "plt.scatter(cars[\"weight\"], predictions, c='blue')"
   ]
  },
  {
   "cell_type": "markdown",
   "metadata": {},
   "source": [
    "For more quantitative understanding of model's efficiency, calculating error. \n",
    "\n",
    "MEAN SQUARED ERROR:"
   ]
  },
  {
   "cell_type": "code",
   "execution_count": 27,
   "metadata": {
    "collapsed": false
   },
   "outputs": [
    {
     "name": "stdout",
     "output_type": "stream",
     "text": [
      "18.7809397346\n"
     ]
    }
   ],
   "source": [
    "from sklearn.metrics import mean_squared_error\n",
    "mse = mean_squared_error(cars[\"mpg\"], predictions)\n",
    "print(mse)"
   ]
  },
  {
   "cell_type": "markdown",
   "metadata": {},
   "source": [
    "ROOT MEAN SQUARED ERROR"
   ]
  },
  {
   "cell_type": "code",
   "execution_count": 28,
   "metadata": {
    "collapsed": false
   },
   "outputs": [
    {
     "name": "stdout",
     "output_type": "stream",
     "text": [
      "1.0\n"
     ]
    }
   ],
   "source": [
    "#Check - 4.33369815915\n",
    "mse = mean_squared_error(cars[\"mpg\"], predictions)\n",
    "rmse = mse ** (1/2)\n",
    "print(rmse)"
   ]
  },
  {
   "cell_type": "code",
   "execution_count": 29,
   "metadata": {
    "collapsed": false
   },
   "outputs": [
    {
     "name": "stderr",
     "output_type": "stream",
     "text": [
      "C:\\Users\\Swapnil Kant Neeraj\\Anaconda\\lib\\site-packages\\IPython\\kernel\\__main__.py:4: SettingWithCopyWarning: \n",
      "A value is trying to be set on a copy of a slice from a DataFrame.\n",
      "Try using .loc[row_indexer,col_indexer] = value instead\n",
      "\n",
      "See the the caveats in the documentation: http://pandas.pydata.org/pandas-docs/stable/indexing.html#indexing-view-versus-copy\n"
     ]
    }
   ],
   "source": [
    "#Now working with the horsepower\n",
    "\n",
    "filtered_cars = cars[cars['horsepower'] != '?']\n",
    "filtered_cars['horsepower'] = filtered_cars['horsepower'].astype('float')"
   ]
  },
  {
   "cell_type": "code",
   "execution_count": 30,
   "metadata": {
    "collapsed": false
   },
   "outputs": [
    {
     "data": {
      "image/png": "[encoded data removed]",
      "text/plain": [
       "<matplotlib.figure.Figure at 0xf1edd10>"
      ]
     },
     "metadata": {},
     "output_type": "display_data"
    },
    {
     "data": {
      "image/png": "[encoded data removed]",
      "text/plain": [
       "<matplotlib.figure.Figure at 0xec1aed0>"
      ]
     },
     "metadata": {},
     "output_type": "display_data"
    }
   ],
   "source": [
    "filtered_cars.plot(\"horsepower\", \"mpg\", kind='scatter', c='red')\n",
    "filtered_cars.plot(\"weight\", \"mpg\", kind='scatter', c='blue')\n",
    "plt.show()"
   ]
  },
  {
   "cell_type": "code",
   "execution_count": 31,
   "metadata": {
    "collapsed": false
   },
   "outputs": [
    {
     "name": "stdout",
     "output_type": "stream",
     "text": [
      "[ 19.41604569  13.89148002  16.25915102  16.25915102  17.83759835]\n",
      "[ 18.  15.  18.  16.  17.]\n"
     ]
    }
   ],
   "source": [
    "lr_hp = LinearRegression()\n",
    "lr_hp.fit(filtered_cars[[\"horsepower\"]], filtered_cars[\"mpg\"])\n",
    "predictions = lr_hp.predict(filtered_cars[[\"horsepower\"]])\n",
    "print(predictions[0:5])\n",
    "print(filtered_cars[\"mpg\"][0:5].values)"
   ]
  },
  {
   "cell_type": "code",
   "execution_count": 32,
   "metadata": {
    "collapsed": false
   },
   "outputs": [
    {
     "data": {
      "text/plain": [
       "<matplotlib.collections.PathCollection at 0x7a6d670>"
      ]
     },
     "execution_count": 32,
     "metadata": {},
     "output_type": "execute_result"
    },
    {
     "data": {
      "image/png": "[encoded data removed]",
      "text/plain": [
       "<matplotlib.figure.Figure at 0xf1ed190>"
      ]
     },
     "metadata": {},
     "output_type": "display_data"
    }
   ],
   "source": [
    "plt.scatter(filtered_cars[\"horsepower\"], filtered_cars[\"mpg\"], c='red')\n",
    "plt.scatter(filtered_cars[\"horsepower\"], predictions, c='blue')"
   ]
  },
  {
   "cell_type": "code",
   "execution_count": 33,
   "metadata": {
    "collapsed": false
   },
   "outputs": [
    {
     "name": "stdout",
     "output_type": "stream",
     "text": [
      "23.9436629386\n",
      "1.0\n"
     ]
    }
   ],
   "source": [
    "from sklearn.metrics import mean_squared_error\n",
    "mse = mean_squared_error(filtered_cars[\"mpg\"], predictions)\n",
    "print(mse)\n",
    "\n",
    "rmse = mse ** (1/2)\n",
    "print(rmse)"
   ]
  },
  {
   "cell_type": "markdown",
   "metadata": {},
   "source": [
    "##Multiclass classification"
   ]
  },
  {
   "cell_type": "code",
   "execution_count": 34,
   "metadata": {
    "collapsed": false
   },
   "outputs": [],
   "source": [
    "cars = pd.read_csv(\"auto.csv\")"
   ]
  },
  {
   "cell_type": "code",
   "execution_count": 35,
   "metadata": {
    "collapsed": false
   },
   "outputs": [
    {
     "name": "stdout",
     "output_type": "stream",
     "text": [
      "[1 3 2]\n"
     ]
    }
   ],
   "source": [
    "unique_origions = cars[\"origin\"].unique()\n",
    "print unique_origions"
   ]
  },
  {
   "cell_type": "code",
   "execution_count": 36,
   "metadata": {
    "collapsed": false
   },
   "outputs": [
    {
     "data": {
      "text/plain": [
       "array([8, 4, 6, 3, 5], dtype=int64)"
      ]
     },
     "execution_count": 36,
     "metadata": {},
     "output_type": "execute_result"
    }
   ],
   "source": [
    "cars[\"cylinders\"].unique()"
   ]
  },
  {
   "cell_type": "code",
   "execution_count": 37,
   "metadata": {
    "collapsed": false
   },
   "outputs": [
    {
     "name": "stdout",
     "output_type": "stream",
     "text": [
      "   mpg  displacement horsepower  weight  acceleration  origin  \\\n",
      "0   18           307        130    3504          12.0       1   \n",
      "1   15           350        165    3693          11.5       1   \n",
      "2   18           318        150    3436          11.0       1   \n",
      "3   16           304        150    3433          12.0       1   \n",
      "4   17           302        140    3449          10.5       1   \n",
      "\n",
      "                    car_name  cyl_3  cyl_4  cyl_5   ...     year_73  year_74  \\\n",
      "0  chevrolet chevelle malibu      0      0      0   ...           0        0   \n",
      "1          buick skylark 320      0      0      0   ...           0        0   \n",
      "2         plymouth satellite      0      0      0   ...           0        0   \n",
      "3              amc rebel sst      0      0      0   ...           0        0   \n",
      "4                ford torino      0      0      0   ...           0        0   \n",
      "\n",
      "   year_75  year_76  year_77  year_78  year_79  year_80  year_81  year_82  \n",
      "0        0        0        0        0        0        0        0        0  \n",
      "1        0        0        0        0        0        0        0        0  \n",
      "2        0        0        0        0        0        0        0        0  \n",
      "3        0        0        0        0        0        0        0        0  \n",
      "4        0        0        0        0        0        0        0        0  \n",
      "\n",
      "[5 rows x 25 columns]\n"
     ]
    }
   ],
   "source": [
    "#Adding dummy variables to generate categorical values and dropping the original columns\n",
    "\n",
    "dummy_cylinders = pd.get_dummies(cars[\"cylinders\"], prefix=\"cyl\")\n",
    "cars = pd.concat([cars, dummy_cylinders], axis=1)\n",
    "\n",
    "dummy_years = pd.get_dummies(cars[\"year\"], prefix=\"year\")\n",
    "cars = pd.concat([cars, dummy_years], axis=1)\n",
    "\n",
    "cars = cars.drop(\"year\", axis=1)\n",
    "cars = cars.drop(\"cylinders\", axis=1)\n",
    "print(cars.head())"
   ]
  },
  {
   "cell_type": "code",
   "execution_count": 38,
   "metadata": {
    "collapsed": false
   },
   "outputs": [],
   "source": [
    "#Randomizing the rows before splitting into test and train.\n",
    "shuffled_rows = np.random.permutation(cars.index)\n",
    "shuffled_cars = cars.iloc[shuffled_rows]"
   ]
  },
  {
   "cell_type": "code",
   "execution_count": 39,
   "metadata": {
    "collapsed": true
   },
   "outputs": [],
   "source": [
    "#Split into train and test sets (70:30) \n",
    "highest_train_row = int(cars.shape[0] * .70)\n",
    "train = shuffled_cars.iloc[0:highest_train_row]\n",
    "test = shuffled_cars.iloc[highest_train_row:]"
   ]
  },
  {
   "cell_type": "code",
   "execution_count": 42,
   "metadata": {
    "collapsed": false
   },
   "outputs": [
    {
     "data": {
      "text/plain": [
       "398"
      ]
     },
     "execution_count": 42,
     "metadata": {},
     "output_type": "execute_result"
    }
   ],
   "source": [
    "#to find the number of rows\n",
    "cars.shape[0]"
   ]
  },
  {
   "cell_type": "code",
   "execution_count": 43,
   "metadata": {
    "collapsed": true
   },
   "outputs": [],
   "source": [
    "unique_origins = cars[\"origin\"].unique()\n",
    "unique_origins.sort()"
   ]
  },
  {
   "cell_type": "code",
   "execution_count": 46,
   "metadata": {
    "collapsed": false
   },
   "outputs": [],
   "source": [
    "from sklearn.linear_model import LogisticRegression\n",
    "\n",
    "#creating a dictionary which maps origin->relevant Logistic Reg model instance\n",
    "models = {}\n",
    "\n",
    "#For each value in unique_origins, train a logistic regression model with the \n",
    "#following parameters:\n",
    "#X: Dataframe containing just the cylinder & year binary columns.\n",
    "#y: list (or Series) of Boolean values:True if observation's value for origin \n",
    "#matches the current iterator variable./False if observation's value for origin \n",
    "#doesn't match the current iterator variable.\n",
    "\n",
    "features = [c for c in train.columns if c.startswith(\"cyl\") or c.startswith(\"year\")]\n",
    "\n",
    "for origin in unique_origins:\n",
    "    model = LogisticRegression()\n",
    "    \n",
    "    X_train = train[features]\n",
    "    y_train = train[\"origin\"] == origin\n",
    "\n",
    "    model.fit(X_train, y_train)\n",
    "    models[origin] = model"
   ]
  },
  {
   "cell_type": "code",
   "execution_count": 47,
   "metadata": {
    "collapsed": false
   },
   "outputs": [],
   "source": [
    "#For each origin value from unique_origins: Use the LogisticRegression \n",
    "#predict_proba function to return the 3 lists of predicted probabilities for \n",
    "#the test set and add to the testing_probs Dataframe.\n",
    "\n",
    "testing_probs = pd.DataFrame(columns=unique_origins)\n",
    "\n",
    "for origin in unique_origins:\n",
    "    # Select testing features.\n",
    "    X_test = test[features]   \n",
    "    # Compute probability of observation being in the origin.\n",
    "    testing_probs[origin] = models[origin].predict_proba(X_test)[:,1]"
   ]
  },
  {
   "cell_type": "markdown",
   "metadata": {
    "collapsed": true
   },
   "source": [
    "Now that we trained the models and computed the probabilities in each origin\n",
    "we can classify each observation."
   ]
  },
  {
   "cell_type": "code",
   "execution_count": null,
   "metadata": {
    "collapsed": true
   },
   "outputs": [],
   "source": [
    "#To classify each observation we want to select the origin with the highest \n",
    "#probability of classification for that observation. While each column in our \n",
    "#dataframe testing_probs represents an origin we just need to choose the one \n",
    "#with the largest probability.\n",
    "\n",
    "\n",
    "#Classify each observation in the test set using the testing_probs Dataframe.\n",
    "\n",
    "predicted_origins = testing_probs.idxmax(axis=1)\n",
    "print(predicted_origins)\n",
    "\n",
    "#the Dataframe method .idxmax() to return a Series where each value corresponds\n",
    "#to the column or where the maximum value occurs for that observation. We\n",
    "#need to make sure to set the axis paramater to 1 since we want to calculate\n",
    "#the maximum value across columns. Since each column maps directly to an\n",
    "#origin the resulting Series will be the classification from our model."
   ]
  },
  {
   "cell_type": "code",
   "execution_count": null,
   "metadata": {
    "collapsed": true
   },
   "outputs": [],
   "source": []
  },
  {
   "cell_type": "code",
   "execution_count": null,
   "metadata": {
    "collapsed": true
   },
   "outputs": [],
   "source": []
  },
  {
   "cell_type": "code",
   "execution_count": null,
   "metadata": {
    "collapsed": true
   },
   "outputs": [],
   "source": []
  },
  {
   "cell_type": "code",
   "execution_count": null,
   "metadata": {
    "collapsed": true
   },
   "outputs": [],
   "source": []
  },
  {
   "cell_type": "code",
   "execution_count": null,
   "metadata": {
    "collapsed": true
   },
   "outputs": [],
   "source": []
  },
  {
   "cell_type": "code",
   "execution_count": null,
   "metadata": {
    "collapsed": true
   },
   "outputs": [],
   "source": []
  },
  {
   "cell_type": "code",
   "execution_count": null,
   "metadata": {
    "collapsed": true
   },
   "outputs": [],
   "source": []
  },
  {
   "cell_type": "code",
   "execution_count": null,
   "metadata": {
    "collapsed": true
   },
   "outputs": [],
   "source": []
  },
  {
   "cell_type": "code",
   "execution_count": null,
   "metadata": {
    "collapsed": true
   },
   "outputs": [],
   "source": []
  },
  {
   "cell_type": "code",
   "execution_count": null,
   "metadata": {
    "collapsed": true
   },
   "outputs": [],
   "source": []
  },
  {
   "cell_type": "code",
   "execution_count": null,
   "metadata": {
    "collapsed": true
   },
   "outputs": [],
   "source": []
  },
  {
   "cell_type": "code",
   "execution_count": null,
   "metadata": {
    "collapsed": true
   },
   "outputs": [],
   "source": []
  },
  {
   "cell_type": "code",
   "execution_count": null,
   "metadata": {
    "collapsed": true
   },
   "outputs": [],
   "source": []
  },
  {
   "cell_type": "code",
   "execution_count": null,
   "metadata": {
    "collapsed": true
   },
   "outputs": [],
   "source": []
  },
  {
   "cell_type": "code",
   "execution_count": null,
   "metadata": {
    "collapsed": true
   },
   "outputs": [],
   "source": []
  },
  {
   "cell_type": "code",
   "execution_count": null,
   "metadata": {
    "collapsed": true
   },
   "outputs": [],
   "source": []
  },
  {
   "cell_type": "code",
   "execution_count": null,
   "metadata": {
    "collapsed": true
   },
   "outputs": [],
   "source": []
  },
  {
   "cell_type": "code",
   "execution_count": null,
   "metadata": {
    "collapsed": true
   },
   "outputs": [],
   "source": []
  },
  {
   "cell_type": "code",
   "execution_count": null,
   "metadata": {
    "collapsed": true
   },
   "outputs": [],
   "source": []
  },
  {
   "cell_type": "code",
   "execution_count": null,
   "metadata": {
    "collapsed": true
   },
   "outputs": [],
   "source": []
  },
  {
   "cell_type": "code",
   "execution_count": null,
   "metadata": {
    "collapsed": true
   },
   "outputs": [],
   "source": []
  },
  {
   "cell_type": "code",
   "execution_count": null,
   "metadata": {
    "collapsed": true
   },
   "outputs": [],
   "source": []
  },
  {
   "cell_type": "code",
   "execution_count": null,
   "metadata": {
    "collapsed": true
   },
   "outputs": [],
   "source": []
  },
  {
   "cell_type": "code",
   "execution_count": null,
   "metadata": {
    "collapsed": true
   },
   "outputs": [],
   "source": []
  },
  {
   "cell_type": "code",
   "execution_count": null,
   "metadata": {
    "collapsed": true
   },
   "outputs": [],
   "source": []
  },
  {
   "cell_type": "code",
   "execution_count": null,
   "metadata": {
    "collapsed": true
   },
   "outputs": [],
   "source": []
  },
  {
   "cell_type": "code",
   "execution_count": null,
   "metadata": {
    "collapsed": true
   },
   "outputs": [],
   "source": []
  },
  {
   "cell_type": "code",
   "execution_count": null,
   "metadata": {
    "collapsed": true
   },
   "outputs": [],
   "source": []
  },
  {
   "cell_type": "code",
   "execution_count": null,
   "metadata": {
    "collapsed": true
   },
   "outputs": [],
   "source": []
  },
  {
   "cell_type": "markdown",
   "metadata": {},
   "source": [
    "#Overfitting"
   ]
  },
  {
   "cell_type": "code",
   "execution_count": 29,
   "metadata": {
    "collapsed": false
   },
   "outputs": [
    {
     "name": "stderr",
     "output_type": "stream",
     "text": [
      "C:\\Users\\Swapnil Kant Neeraj\\Anaconda\\lib\\site-packages\\IPython\\kernel\\__main__.py:7: SettingWithCopyWarning: \n",
      "A value is trying to be set on a copy of a slice from a DataFrame.\n",
      "Try using .loc[row_indexer,col_indexer] = value instead\n",
      "\n",
      "See the the caveats in the documentation: http://pandas.pydata.org/pandas-docs/stable/indexing.html#indexing-view-versus-copy\n"
     ]
    }
   ],
   "source": [
    "import pandas as pd\n",
    "columns = [\"mpg\", \"cylinders\", \"displacement\", \"horsepower\", \"weight\", \"acceleration\", \"model year\", \"origin\", \"car name\"]\n",
    "\n",
    "cars = pd.read_table(\"auto-mpg.data.txt\", delim_whitespace=True, names=columns)\n",
    "\n",
    "filtered_cars = cars[cars['horsepower'] != '?']\n",
    "filtered_cars['horsepower'] = filtered_cars['horsepower'].astype('float')"
   ]
  },
  {
   "cell_type": "code",
   "execution_count": 31,
   "metadata": {
    "collapsed": false
   },
   "outputs": [
    {
     "data": {
      "text/html": [
       "<div>\n",
       "<table border=\"1\" class=\"dataframe\">\n",
       "  <thead>\n",
       "    <tr style=\"text-align: right;\">\n",
       "      <th></th>\n",
       "      <th>mpg</th>\n",
       "      <th>cylinders</th>\n",
       "      <th>displacement</th>\n",
       "      <th>horsepower</th>\n",
       "      <th>weight</th>\n",
       "      <th>acceleration</th>\n",
       "      <th>model year</th>\n",
       "      <th>origin</th>\n",
       "      <th>car name</th>\n",
       "    </tr>\n",
       "  </thead>\n",
       "  <tbody>\n",
       "    <tr>\n",
       "      <th>0</th>\n",
       "      <td>18</td>\n",
       "      <td>8</td>\n",
       "      <td>307</td>\n",
       "      <td>130</td>\n",
       "      <td>3504</td>\n",
       "      <td>12.0</td>\n",
       "      <td>70</td>\n",
       "      <td>1</td>\n",
       "      <td>chevrolet chevelle malibu</td>\n",
       "    </tr>\n",
       "    <tr>\n",
       "      <th>1</th>\n",
       "      <td>15</td>\n",
       "      <td>8</td>\n",
       "      <td>350</td>\n",
       "      <td>165</td>\n",
       "      <td>3693</td>\n",
       "      <td>11.5</td>\n",
       "      <td>70</td>\n",
       "      <td>1</td>\n",
       "      <td>buick skylark 320</td>\n",
       "    </tr>\n",
       "  </tbody>\n",
       "</table>\n",
       "</div>"
      ],
      "text/plain": [
       "   mpg  cylinders  displacement  horsepower  weight  acceleration  model year  \\\n",
       "0   18          8           307         130    3504          12.0          70   \n",
       "1   15          8           350         165    3693          11.5          70   \n",
       "\n",
       "   origin                   car name  \n",
       "0       1  chevrolet chevelle malibu  \n",
       "1       1          buick skylark 320  "
      ]
     },
     "execution_count": 31,
     "metadata": {},
     "output_type": "execute_result"
    }
   ],
   "source": [
    "filtered_cars.head(2)"
   ]
  },
  {
   "cell_type": "code",
   "execution_count": 32,
   "metadata": {
    "collapsed": true
   },
   "outputs": [],
   "source": [
    "from sklearn.linear_model import LinearRegression\n",
    "from sklearn.metrics import mean_squared_error\n",
    "import numpy as np\n",
    "import matplotlib.pyplot as plt\n",
    "%matplotlib inline\n",
    "\n",
    "#Creating a function that takes in col names and trains a linear reg using cols as the features and mpg as target. The function uses the trained model to make predictions using the same input it was trained on; Computes the variance of the predicted values and the mse between the predicted values and the actual label (mpg column). Function returns mse,variance.\n",
    "def train_and_test(cols):\n",
    "    \n",
    "    # Split into features & target.\n",
    "    features = filtered_cars[cols]\n",
    "    target = filtered_cars[\"mpg\"]\n",
    "    \n",
    "    # Fit model.\n",
    "    lr = LinearRegression()\n",
    "    lr.fit(features, target)\n",
    "    \n",
    "    # Make predictions on training set.\n",
    "    predictions = lr.predict(features)\n",
    "    \n",
    "    # Compute MSE and Variance.\n",
    "    mse = mean_squared_error(filtered_cars[\"mpg\"], predictions)\n",
    "    variance = np.var(predictions)\n",
    "    return(mse, variance)\n",
    "    \n",
    "cyl_mse, cyl_var = train_and_test([\"cylinders\"])\n",
    "weight_mse, weight_var = train_and_test([\"weight\"])"
   ]
  },
  {
   "cell_type": "code",
   "execution_count": 33,
   "metadata": {
    "collapsed": true
   },
   "outputs": [],
   "source": [
    "one_mse, one_var = train_and_test([\"cylinders\"])\n",
    "two_mse, two_var = train_and_test([\"cylinders\", \"displacement\"])\n",
    "three_mse, three_var = train_and_test([\"cylinders\", \"displacement\", \"horsepower\"])\n",
    "four_mse, four_var = train_and_test([\"cylinders\", \"displacement\", \"horsepower\", \"weight\"])\n",
    "five_mse, five_var = train_and_test([\"cylinders\", \"displacement\", \"horsepower\", \"weight\", \"acceleration\"])\n",
    "six_mse, six_var = train_and_test([\"cylinders\", \"displacement\", \"horsepower\", \"weight\", \"acceleration\", \"model year\"])\n",
    "seven_mse, seven_var = train_and_test([\"cylinders\", \"displacement\", \"horsepower\", \"weight\", \"acceleration\",\"model year\", \"origin\"])"
   ]
  },
  {
   "cell_type": "code",
   "execution_count": 34,
   "metadata": {
    "collapsed": true
   },
   "outputs": [],
   "source": [
    "#new function to handle performing the cross validation and computing the cross validation error.\n",
    "from sklearn.cross_validation import KFold\n",
    "from sklearn.metrics import mean_squared_error\n",
    "import numpy as np\n",
    "\n",
    "def train_and_cross_val(cols):\n",
    "    features = filtered_cars[cols]\n",
    "    target = filtered_cars[\"mpg\"]\n",
    "    \n",
    "    variance_values = []\n",
    "    mse_values = []\n",
    "    \n",
    "    # KFold instance. Using a KFold class to perform 10-fold validation \n",
    "    kf = KFold(n=len(filtered_cars), n_folds=10, shuffle=True, random_state=3)\n",
    "    \n",
    "    # Iterate through over each fold.\n",
    "    for train_index, test_index in kf:\n",
    "        # Training and test sets.\n",
    "        X_train, X_test = features.iloc[train_index], features.iloc[test_index]\n",
    "        y_train, y_test = target.iloc[train_index], target.iloc[test_index]\n",
    "        \n",
    "        # Fit the model and make predictions.\n",
    "        lr = LinearRegression()\n",
    "        lr.fit(X_train, y_train)\n",
    "        predictions = lr.predict(X_test)\n",
    "        \n",
    "        # Calculate mse and variance values for this fold.\n",
    "        mse = mean_squared_error(y_test, predictions)\n",
    "        var = np.var(predictions)\n",
    "\n",
    "        # Append to arrays to do calculate overall average mse and variance values.\n",
    "        variance_values.append(var)\n",
    "        mse_values.append(mse)\n",
    "   \n",
    "    # Compute average mse and variance values.\n",
    "    avg_mse = np.mean(mse_values)\n",
    "    avg_var = np.mean(variance_values)\n",
    "    return(avg_mse, avg_var)\n",
    "        \n",
    "two_mse, two_var = train_and_cross_val([\"cylinders\", \"displacement\"])\n",
    "three_mse, three_var = train_and_cross_val([\"cylinders\", \"displacement\", \"horsepower\"])\n",
    "four_mse, four_var = train_and_cross_val([\"cylinders\", \"displacement\", \"horsepower\", \"weight\"])\n",
    "five_mse, five_var = train_and_cross_val([\"cylinders\", \"displacement\", \"horsepower\", \"weight\", \"acceleration\"])\n",
    "six_mse, six_var = train_and_cross_val([\"cylinders\", \"displacement\", \"horsepower\", \"weight\", \"acceleration\", \"model year\"])\n",
    "seven_mse, seven_var = train_and_cross_val([\"cylinders\", \"displacement\", \"horsepower\", \"weight\", \"acceleration\",\"model year\", \"origin\"])"
   ]
  },
  {
   "cell_type": "code",
   "execution_count": 35,
   "metadata": {
    "collapsed": false
   },
   "outputs": [
    {
     "data": {
      "image/png": "[encoded data removed]",
      "text/plain": [
       "<matplotlib.figure.Figure at 0x7b1ad90>"
      ]
     },
     "metadata": {},
     "output_type": "display_data"
    }
   ],
   "source": [
    "#model's number of features on the x-axis and the model's overall, cross-validation mean squared error on the y-axis\n",
    "plt.scatter([2,3,4,5,6,7], [two_mse, three_mse, four_mse, five_mse, six_mse, seven_mse], c='red')\n",
    "\n",
    "#model's number of features on the x-axis and the model's overall, cross-validation variance on the y-axis\n",
    "plt.scatter([2,3,4,5,6,7], [two_var, three_var, four_var, five_var, six_var, seven_var], c='blue')\n",
    "plt.show()"
   ]
  },
  {
   "cell_type": "markdown",
   "metadata": {},
   "source": [
    "While the higher order multivariate models overfit in relation to the lower order multivariate models, the in-sample error and out-of-sample didn't deviate by much. The best model was around 50% more accurate than the simplest model. On the other hand, the overall variance increased around 25% as we increased the model complexity. \n",
    "\n",
    "The increased variance with the increased model complexity means that the model will have more unpredictable performance on truly new, unseen data."
   ]
  },
  {
   "cell_type": "code",
   "execution_count": null,
   "metadata": {
    "collapsed": true
   },
   "outputs": [],
   "source": []
  }
 ],
 "metadata": {
  "kernelspec": {
   "display_name": "Python 2",
   "language": "python",
   "name": "python2"
  },
  "language_info": {
   "codemirror_mode": {
    "name": "ipython",
    "version": 2
   },
   "file_extension": ".py",
   "mimetype": "text/x-python",
   "name": "python",
   "nbconvert_exporter": "python",
   "pygments_lexer": "ipython2",
   "version": "2.7.10"
  }
 },
 "nbformat": 4,
 "nbformat_minor": 0
}
