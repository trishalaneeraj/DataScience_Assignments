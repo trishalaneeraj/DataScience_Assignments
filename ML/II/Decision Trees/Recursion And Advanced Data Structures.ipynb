{
 "cells": [
  {
   "cell_type": "code",
   "execution_count": 1,
   "metadata": {
    "collapsed": true
   },
   "outputs": [],
   "source": [
    "# Recursive factorial function\n",
    "\n",
    "def factorial(n):\n",
    "    # Check the base case\n",
    "    if n==0:\n",
    "        return 1\n",
    "    # Recursive case\n",
    "    return n * factorial(n - 1)\n",
    "    \n",
    "factorial1 = factorial(1)\n",
    "factorial5 = factorial(5)\n",
    "factorial25 = factorial(25)"
   ]
  },
  {
   "cell_type": "code",
   "execution_count": 2,
   "metadata": {
    "collapsed": true
   },
   "outputs": [],
   "source": [
    "# Fibonacci\n",
    "\n",
    "def fib(n):\n",
    "    # Check the base case\n",
    "    if n == 0 or n == 1:\n",
    "        return 1\n",
    "    # Recursive case\n",
    "    return fib(n - 1) + fib(n - 2)\n",
    "\n",
    "fib1 = fib(1)\n",
    "fib5 = fib(5)\n",
    "fib25 = fib(25)"
   ]
  },
  {
   "cell_type": "code",
   "execution_count": 6,
   "metadata": {
    "collapsed": false
   },
   "outputs": [],
   "source": [
    "# First person's name\n",
    "#first_item = people.head().get_data()\n",
    "\n",
    "# Getting linked list length using iteration\n",
    "def length_iterative(ls):\n",
    "    count = 0\n",
    "    while not ls.is_empty():\n",
    "        count = count + 1\n",
    "        ls = ls.tail()\n",
    "    return count\n",
    "\n",
    "# Getting linked list length using recursion\n",
    "def length_recursive(ls):\n",
    "    if ls.is_empty():\n",
    "        return 0\n",
    "    return 1 + length_recursive(ls.tail())\n",
    "\n",
    "\n",
    "#people_length = length_recursive(people)\n",
    "\n",
    "#people.print_list()\n",
    "\n",
    "#print (first_item)\n"
   ]
  },
  {
   "cell_type": "code",
   "execution_count": 7,
   "metadata": {
    "collapsed": true
   },
   "outputs": [],
   "source": [
    "# Retrieving an item in the linked list by index\n",
    "retrieval_by_index = \"linear\"\n",
    "\n",
    "# Retrieving an item in the linked list by value\n",
    "retrieval_by_value = \"linear\"\n",
    "\n",
    "# Deleting an item from the linked list, with access to the item and \n",
    "#     the item before it\n",
    "deletion = \"constant\"\n",
    "\n",
    "# Inserting an item into the linked list, with access to the location\n",
    "#     where we are inserting\n",
    "insertion = \"constant\"\n",
    "\n",
    "# Calculating the length of a linked list using a loop\n",
    "length_iterative = \"linear\"\n",
    "\n",
    "# Calculating the length of a linked list using recursion\n",
    "length_recursive = \"linear\"\n"
   ]
  },
  {
   "cell_type": "code",
   "execution_count": null,
   "metadata": {
    "collapsed": true
   },
   "outputs": [],
   "source": []
  }
 ],
 "metadata": {
  "kernelspec": {
   "display_name": "Python 2",
   "language": "python",
   "name": "python2"
  },
  "language_info": {
   "codemirror_mode": {
    "name": "ipython",
    "version": 2
   },
   "file_extension": ".py",
   "mimetype": "text/x-python",
   "name": "python",
   "nbconvert_exporter": "python",
   "pygments_lexer": "ipython2",
   "version": "2.7.10"
  }
 },
 "nbformat": 4,
 "nbformat_minor": 0
}
