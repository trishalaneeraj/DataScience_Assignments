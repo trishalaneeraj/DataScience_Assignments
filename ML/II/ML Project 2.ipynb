{
 "cells": [
  {
   "cell_type": "markdown",
   "metadata": {},
   "source": [
    "Data from: https://www.quandl.com/data/YAHOO/INDEX_GSPC-S-P-500-Index"
   ]
  },
  {
   "cell_type": "code",
   "execution_count": 1,
   "metadata": {
    "collapsed": true
   },
   "outputs": [],
   "source": [
    "import pandas as pd\n",
    "import numpy as np"
   ]
  },
  {
   "cell_type": "code",
   "execution_count": 4,
   "metadata": {
    "collapsed": true
   },
   "outputs": [],
   "source": [
    "sphist = pd.read_csv(\"sphist.csv\")"
   ]
  },
  {
   "cell_type": "code",
   "execution_count": 5,
   "metadata": {
    "collapsed": false
   },
   "outputs": [
    {
     "data": {
      "text/html": [
       "<div>\n",
       "<table border=\"1\" class=\"dataframe\">\n",
       "  <thead>\n",
       "    <tr style=\"text-align: right;\">\n",
       "      <th></th>\n",
       "      <th>Date</th>\n",
       "      <th>Open</th>\n",
       "      <th>High</th>\n",
       "      <th>Low</th>\n",
       "      <th>Close</th>\n",
       "      <th>Volume</th>\n",
       "      <th>Adjusted Close</th>\n",
       "    </tr>\n",
       "  </thead>\n",
       "  <tbody>\n",
       "    <tr>\n",
       "      <th>0</th>\n",
       "      <td>2012-07-27</td>\n",
       "      <td>1360.050049</td>\n",
       "      <td>1389.189941</td>\n",
       "      <td>1360.050049</td>\n",
       "      <td>1385.969971</td>\n",
       "      <td>4399010000</td>\n",
       "      <td>1385.969971</td>\n",
       "    </tr>\n",
       "    <tr>\n",
       "      <th>1</th>\n",
       "      <td>2012-07-26</td>\n",
       "      <td>1338.170044</td>\n",
       "      <td>1363.130005</td>\n",
       "      <td>1338.170044</td>\n",
       "      <td>1360.020020</td>\n",
       "      <td>4429300000</td>\n",
       "      <td>1360.020020</td>\n",
       "    </tr>\n",
       "    <tr>\n",
       "      <th>2</th>\n",
       "      <td>2012-07-25</td>\n",
       "      <td>1338.349976</td>\n",
       "      <td>1343.979980</td>\n",
       "      <td>1331.500000</td>\n",
       "      <td>1337.890015</td>\n",
       "      <td>3719170000</td>\n",
       "      <td>1337.890015</td>\n",
       "    </tr>\n",
       "    <tr>\n",
       "      <th>3</th>\n",
       "      <td>2012-07-24</td>\n",
       "      <td>1350.520020</td>\n",
       "      <td>1351.530029</td>\n",
       "      <td>1329.239990</td>\n",
       "      <td>1338.310059</td>\n",
       "      <td>3891290000</td>\n",
       "      <td>1338.310059</td>\n",
       "    </tr>\n",
       "    <tr>\n",
       "      <th>4</th>\n",
       "      <td>2012-07-23</td>\n",
       "      <td>1362.339966</td>\n",
       "      <td>1362.339966</td>\n",
       "      <td>1337.560059</td>\n",
       "      <td>1350.520020</td>\n",
       "      <td>3717180000</td>\n",
       "      <td>1350.520020</td>\n",
       "    </tr>\n",
       "  </tbody>\n",
       "</table>\n",
       "</div>"
      ],
      "text/plain": [
       "         Date         Open         High          Low        Close      Volume  \\\n",
       "0  2012-07-27  1360.050049  1389.189941  1360.050049  1385.969971  4399010000   \n",
       "1  2012-07-26  1338.170044  1363.130005  1338.170044  1360.020020  4429300000   \n",
       "2  2012-07-25  1338.349976  1343.979980  1331.500000  1337.890015  3719170000   \n",
       "3  2012-07-24  1350.520020  1351.530029  1329.239990  1338.310059  3891290000   \n",
       "4  2012-07-23  1362.339966  1362.339966  1337.560059  1350.520020  3717180000   \n",
       "\n",
       "   Adjusted Close  \n",
       "0     1385.969971  \n",
       "1     1360.020020  \n",
       "2     1337.890015  \n",
       "3     1338.310059  \n",
       "4     1350.520020  "
      ]
     },
     "execution_count": 5,
     "metadata": {},
     "output_type": "execute_result"
    }
   ],
   "source": [
    "sphist.head(5)"
   ]
  },
  {
   "cell_type": "markdown",
   "metadata": {},
   "source": [
    "You'll be using this dataset to develop a predictive model. You'll train the model with data from 1950-2012, and try to make predictions from 2013-2015."
   ]
  },
  {
   "cell_type": "code",
   "execution_count": null,
   "metadata": {
    "collapsed": true
   },
   "outputs": [],
   "source": []
  }
 ],
 "metadata": {
  "kernelspec": {
   "display_name": "Python 2",
   "language": "python",
   "name": "python2"
  },
  "language_info": {
   "codemirror_mode": {
    "name": "ipython",
    "version": 2
   },
   "file_extension": ".py",
   "mimetype": "text/x-python",
   "name": "python",
   "nbconvert_exporter": "python",
   "pygments_lexer": "ipython2",
   "version": "2.7.10"
  }
 },
 "nbformat": 4,
 "nbformat_minor": 0
}
