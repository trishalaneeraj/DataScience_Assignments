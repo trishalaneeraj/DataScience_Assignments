{
 "cells": [
  {
   "cell_type": "code",
   "execution_count": 2,
   "metadata": {
    "collapsed": false
   },
   "outputs": [
    {
     "name": "stdout",
     "output_type": "stream",
     "text": [
      "      lean  year\n",
      "0   2.9642  1975\n",
      "1   2.9644  1976\n",
      "2   2.9656  1977\n",
      "3   2.9667  1978\n",
      "4   2.9673  1979\n",
      "5   2.9688  1980\n",
      "6   2.9696  1981\n",
      "7   2.9698  1982\n",
      "8   2.9713  1983\n",
      "9   2.9717  1984\n",
      "10  2.9725  1985\n",
      "11  2.9742  1986\n",
      "12  2.9757  1987\n"
     ]
    },
    {
     "data": {
      "text/plain": [
       "<matplotlib.collections.PathCollection at 0x7ac4950>"
      ]
     },
     "execution_count": 2,
     "metadata": {},
     "output_type": "execute_result"
    },
    {
     "data": {
      "image/png": "[encoded data removed]",
      "text/plain": [
       "<matplotlib.figure.Figure at 0x798ccf0>"
      ]
     },
     "metadata": {},
     "output_type": "display_data"
    }
   ],
   "source": [
    "import pandas\n",
    "import matplotlib.pyplot as plt\n",
    "%matplotlib inline\n",
    "\n",
    "pisa = pandas.DataFrame({\"year\": range(1975, 1988), \n",
    "                         \"lean\": [2.9642, 2.9644, 2.9656, 2.9667, 2.9673, 2.9688, 2.9696, \n",
    "                                  2.9698, 2.9713, 2.9717, 2.9725, 2.9742, 2.9757]})\n",
    "\n",
    "print(pisa)\n",
    "\n",
    "plt.scatter(pisa[\"year\"], pisa[\"lean\"])"
   ]
  },
  {
   "cell_type": "code",
   "execution_count": 3,
   "metadata": {
    "collapsed": false
   },
   "outputs": [
    {
     "name": "stderr",
     "output_type": "stream",
     "text": [
      "C:\\Users\\Swapnil Kant Neeraj\\Anaconda\\lib\\site-packages\\scipy\\stats\\stats.py:1233: UserWarning: kurtosistest only valid for n>=20 ... continuing anyway, n=13\n",
      "  int(n))\n"
     ]
    },
    {
     "data": {
      "text/html": [
       "<table class=\"simpletable\">\n",
       "<caption>OLS Regression Results</caption>\n",
       "<tr>\n",
       "  <th>Dep. Variable:</th>          <td>lean</td>       <th>  R-squared:         </th> <td>   0.988</td>\n",
       "</tr>\n",
       "<tr>\n",
       "  <th>Model:</th>                   <td>OLS</td>       <th>  Adj. R-squared:    </th> <td>   0.987</td>\n",
       "</tr>\n",
       "<tr>\n",
       "  <th>Method:</th>             <td>Least Squares</td>  <th>  F-statistic:       </th> <td>   904.1</td>\n",
       "</tr>\n",
       "<tr>\n",
       "  <th>Date:</th>             <td>Sat, 16 Jul 2016</td> <th>  Prob (F-statistic):</th> <td>6.50e-12</td>\n",
       "</tr>\n",
       "<tr>\n",
       "  <th>Time:</th>                 <td>01:26:35</td>     <th>  Log-Likelihood:    </th> <td>  83.777</td>\n",
       "</tr>\n",
       "<tr>\n",
       "  <th>No. Observations:</th>      <td>    13</td>      <th>  AIC:               </th> <td>  -163.6</td>\n",
       "</tr>\n",
       "<tr>\n",
       "  <th>Df Residuals:</th>          <td>    11</td>      <th>  BIC:               </th> <td>  -162.4</td>\n",
       "</tr>\n",
       "<tr>\n",
       "  <th>Df Model:</th>              <td>     1</td>      <th>                     </th>     <td> </td>   \n",
       "</tr>\n",
       "<tr>\n",
       "  <th>Covariance Type:</th>      <td>nonrobust</td>    <th>                     </th>     <td> </td>   \n",
       "</tr>\n",
       "</table>\n",
       "<table class=\"simpletable\">\n",
       "<tr>\n",
       "    <td></td>       <th>coef</th>     <th>std err</th>      <th>t</th>      <th>P>|t|</th> <th>[95.0% Conf. Int.]</th> \n",
       "</tr>\n",
       "<tr>\n",
       "  <th>const</th> <td>    1.1233</td> <td>    0.061</td> <td>   18.297</td> <td> 0.000</td> <td>    0.988     1.258</td>\n",
       "</tr>\n",
       "<tr>\n",
       "  <th>year</th>  <td>    0.0009</td> <td>  3.1e-05</td> <td>   30.069</td> <td> 0.000</td> <td>    0.001     0.001</td>\n",
       "</tr>\n",
       "</table>\n",
       "<table class=\"simpletable\">\n",
       "<tr>\n",
       "  <th>Omnibus:</th>       <td> 0.310</td> <th>  Durbin-Watson:     </th> <td>   1.642</td>\n",
       "</tr>\n",
       "<tr>\n",
       "  <th>Prob(Omnibus):</th> <td> 0.856</td> <th>  Jarque-Bera (JB):  </th> <td>   0.450</td>\n",
       "</tr>\n",
       "<tr>\n",
       "  <th>Skew:</th>          <td> 0.094</td> <th>  Prob(JB):          </th> <td>   0.799</td>\n",
       "</tr>\n",
       "<tr>\n",
       "  <th>Kurtosis:</th>      <td> 2.108</td> <th>  Cond. No.          </th> <td>1.05e+06</td>\n",
       "</tr>\n",
       "</table>"
      ],
      "text/plain": [
       "<class 'statsmodels.iolib.summary.Summary'>\n",
       "\"\"\"\n",
       "                            OLS Regression Results                            \n",
       "==============================================================================\n",
       "Dep. Variable:                   lean   R-squared:                       0.988\n",
       "Model:                            OLS   Adj. R-squared:                  0.987\n",
       "Method:                 Least Squares   F-statistic:                     904.1\n",
       "Date:                Sat, 16 Jul 2016   Prob (F-statistic):           6.50e-12\n",
       "Time:                        01:26:35   Log-Likelihood:                 83.777\n",
       "No. Observations:                  13   AIC:                            -163.6\n",
       "Df Residuals:                      11   BIC:                            -162.4\n",
       "Df Model:                           1                                         \n",
       "Covariance Type:            nonrobust                                         \n",
       "==============================================================================\n",
       "                 coef    std err          t      P>|t|      [95.0% Conf. Int.]\n",
       "------------------------------------------------------------------------------\n",
       "const          1.1233      0.061     18.297      0.000         0.988     1.258\n",
       "year           0.0009    3.1e-05     30.069      0.000         0.001     0.001\n",
       "==============================================================================\n",
       "Omnibus:                        0.310   Durbin-Watson:                   1.642\n",
       "Prob(Omnibus):                  0.856   Jarque-Bera (JB):                0.450\n",
       "Skew:                           0.094   Prob(JB):                        0.799\n",
       "Kurtosis:                       2.108   Cond. No.                     1.05e+06\n",
       "==============================================================================\n",
       "\n",
       "Warnings:\n",
       "[1] Standard Errors assume that the covariance matrix of the errors is correctly specified.\n",
       "[2] The condition number is large, 1.05e+06. This might indicate that there are\n",
       "strong multicollinearity or other numerical problems.\n",
       "\"\"\""
      ]
     },
     "execution_count": 3,
     "metadata": {},
     "output_type": "execute_result"
    }
   ],
   "source": [
    "import statsmodels.api as sm\n",
    "\n",
    "y = pisa.lean # target\n",
    "X = pisa.year  # features\n",
    "X = sm.add_constant(X)  # add a column of 1's as the constant term\n",
    "\n",
    "# OLS -- Ordinary Least Squares Fit\n",
    "linear = sm.OLS(y, X)\n",
    "# fit model\n",
    "linearfit = linear.fit()\n",
    "\n",
    "linearfit.summary()"
   ]
  },
  {
   "cell_type": "code",
   "execution_count": 4,
   "metadata": {
    "collapsed": false
   },
   "outputs": [
    {
     "name": "stdout",
     "output_type": "stream",
     "text": [
      "[ 2.96377802  2.96470989  2.96564176  2.96657363  2.96750549  2.96843736\n",
      "  2.96936923  2.9703011   2.97123297  2.97216484  2.9730967   2.97402857\n",
      "  2.97496044]\n"
     ]
    },
    {
     "data": {
      "text/plain": [
       "(array([ 1.,  3.,  4.,  2.,  3.]),\n",
       " array([ -7.39560440e-04,  -4.72307693e-04,  -2.05054945e-04,\n",
       "          6.21978020e-05,   3.29450549e-04,   5.96703296e-04]),\n",
       " <a list of 5 Patch objects>)"
      ]
     },
     "execution_count": 4,
     "metadata": {},
     "output_type": "execute_result"
    },
    {
     "data": {
      "image/png": "[encoded data removed]",
      "text/plain": [
       "<matplotlib.figure.Figure at 0x7a9f950>"
      ]
     },
     "metadata": {},
     "output_type": "display_data"
    }
   ],
   "source": [
    "# Our predicted values of y\n",
    "yhat = linearfit.predict(X)\n",
    "print(yhat)\n",
    "residuals = yhat - y\n",
    "#Creating histogram with 5 bins of the residuals.\n",
    "plt.hist(residuals, bins=5)"
   ]
  },
  {
   "cell_type": "code",
   "execution_count": 5,
   "metadata": {
    "collapsed": false
   },
   "outputs": [],
   "source": [
    "import numpy as np\n",
    "\n",
    "# sum the (predicted - observed) squared\n",
    "SSE = np.sum((yhat-y.values)**2)\n",
    "# Average y\n",
    "ybar = np.mean(y.values)\n",
    "\n",
    "# sum the (mean - predicted) squared\n",
    "RSS = np.sum((ybar-yhat)**2)\n",
    "\n",
    "# sum the (mean - observed) squared\n",
    "TSS = np.sum((ybar-y.values)**2)"
   ]
  },
  {
   "cell_type": "code",
   "execution_count": 6,
   "metadata": {
    "collapsed": true
   },
   "outputs": [],
   "source": [
    "R2 = (RSS/TSS)"
   ]
  },
  {
   "cell_type": "code",
   "execution_count": 7,
   "metadata": {
    "collapsed": false
   },
   "outputs": [
    {
     "name": "stdout",
     "output_type": "stream",
     "text": [
      "('\\n', const    1.123338\n",
      "year     0.000932\n",
      "dtype: float64)\n"
     ]
    }
   ],
   "source": [
    "print(\"\\n\",linearfit.params)\n",
    "delta = linearfit.params[\"year\"] * 15"
   ]
  },
  {
   "cell_type": "code",
   "execution_count": 8,
   "metadata": {
    "collapsed": true
   },
   "outputs": [],
   "source": [
    "# Compute SSE\n",
    "SSE = np.sum((y.values - yhat)**2)\n",
    "# Compute variance in X\n",
    "xvar = np.sum((pisa.year - pisa.year.mean())**2)\n",
    "# Compute variance in b1 \n",
    "s2b1 = (SSE / (y.shape[0] - 2)) / xvar"
   ]
  },
  {
   "cell_type": "code",
   "execution_count": 9,
   "metadata": {
    "collapsed": false
   },
   "outputs": [
    {
     "name": "stdout",
     "output_type": "stream",
     "text": [
      "[ 0.02297204  0.02441481  0.02596406  0.02762847  0.0294174   0.031341\n",
      "  0.03341025  0.03563701  0.03803403  0.04061509  0.04339497  0.04638952\n",
      "  0.04961567  0.05309149  0.05683617  0.06086996  0.0652142   0.06989116\n",
      "  0.07492395  0.08033633  0.08615245  0.09239652  0.0990924   0.10626304\n",
      "  0.11392986  0.12211193  0.13082504  0.14008063  0.14988449  0.16023537\n",
      "  0.17112343  0.18252859  0.1944188   0.20674834  0.21945618  0.23246464\n",
      "  0.2456783   0.2589835   0.27224841  0.28532401  0.29804594  0.31023748\n",
      "  0.32171351  0.33228555  0.34176766  0.34998293  0.35677032  0.36199128\n",
      "  0.36553585  0.36732769  0.36732769  0.36553585  0.36199128  0.35677032\n",
      "  0.34998293  0.34176766  0.33228555  0.32171351  0.31023748  0.29804594\n",
      "  0.28532401  0.27224841  0.2589835   0.2456783   0.23246464  0.21945618\n",
      "  0.20674834  0.1944188   0.18252859  0.17112343  0.16023537  0.14988449\n",
      "  0.14008063  0.13082504  0.12211193  0.11392986  0.10626304  0.0990924\n",
      "  0.09239652  0.08615245  0.08033633  0.07492395  0.06989116  0.0652142\n",
      "  0.06086996  0.05683617  0.05309149  0.04961567  0.04638952  0.04339497\n",
      "  0.04061509  0.03803403  0.03563701  0.03341025  0.031341    0.0294174\n",
      "  0.02762847  0.02596406  0.02441481  0.02297204]\n"
     ]
    }
   ],
   "source": [
    "from scipy.stats import t\n",
    "\n",
    "# 100 values between -3 and 3\n",
    "x = np.linspace(-3,3,100)\n",
    "\n",
    "# Compute the pdf with 3 degrees of freedom\n",
    "print(t.pdf(x=x, df=3))"
   ]
  },
  {
   "cell_type": "code",
   "execution_count": 10,
   "metadata": {
    "collapsed": true
   },
   "outputs": [],
   "source": [
    "# The variable s2b1 is in memory.  The variance of beta_1\n",
    "\n",
    "tstat = linearfit.params[\"year\"] / np.sqrt(s2b1)"
   ]
  },
  {
   "cell_type": "code",
   "execution_count": 11,
   "metadata": {
    "collapsed": true
   },
   "outputs": [],
   "source": [
    "# At the 95% confidence interval for a two-sided t-test we must use a p-value of 0.975\n",
    "pval = 0.975\n",
    "\n",
    "# The degrees of freedom\n",
    "df = pisa.shape[0] - 2\n",
    "\n",
    "# The probability to test against\n",
    "p = t.cdf(tstat, df=df)\n",
    "beta1_test = p > pval"
   ]
  },
  {
   "cell_type": "code",
   "execution_count": null,
   "metadata": {
    "collapsed": true
   },
   "outputs": [],
   "source": []
  }
 ],
 "metadata": {
  "kernelspec": {
   "display_name": "Python 2",
   "language": "python",
   "name": "python2"
  },
  "language_info": {
   "codemirror_mode": {
    "name": "ipython",
    "version": 2
   },
   "file_extension": ".py",
   "mimetype": "text/x-python",
   "name": "python",
   "nbconvert_exporter": "python",
   "pygments_lexer": "ipython2",
   "version": "2.7.10"
  }
 },
 "nbformat": 4,
 "nbformat_minor": 0
}
